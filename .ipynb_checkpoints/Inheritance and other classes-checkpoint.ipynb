{
 "cells": [
  {
   "cell_type": "markdown",
   "id": "3122b162",
   "metadata": {},
   "source": [
    "# Single Inheritance\n",
    "Inheritance from single parent"
   ]
  },
  {
   "cell_type": "code",
   "execution_count": 1,
   "id": "f99be84b",
   "metadata": {},
   "outputs": [],
   "source": [
    "class computer:\n",
    "    def __init__(self, ram, storage):\n",
    "        self.ram = ram\n",
    "        self.storage = storage"
   ]
  },
  {
   "cell_type": "code",
   "execution_count": 2,
   "id": "211b0688",
   "metadata": {},
   "outputs": [],
   "source": [
    "class mobile(computer):\n",
    "    def __init__(self, ram, storage, camera_pixel):\n",
    "        self.camera_pixel = camera_pixel\n",
    "        super().__init__(ram,storage)"
   ]
  },
  {
   "cell_type": "code",
   "execution_count": 3,
   "id": "d3adf2c2",
   "metadata": {},
   "outputs": [],
   "source": [
    "m = mobile(8, 128, 188)"
   ]
  },
  {
   "cell_type": "code",
   "execution_count": 4,
   "id": "bfbe053e",
   "metadata": {},
   "outputs": [
    {
     "data": {
      "text/plain": [
       "188"
      ]
     },
     "execution_count": 4,
     "metadata": {},
     "output_type": "execute_result"
    }
   ],
   "source": [
    "m.camera_pixel"
   ]
  },
  {
   "cell_type": "code",
   "execution_count": 5,
   "id": "42437358",
   "metadata": {},
   "outputs": [
    {
     "data": {
      "text/plain": [
       "8"
      ]
     },
     "execution_count": 5,
     "metadata": {},
     "output_type": "execute_result"
    }
   ],
   "source": [
    "m.ram"
   ]
  },
  {
   "cell_type": "code",
   "execution_count": 6,
   "id": "18b8fd9e",
   "metadata": {},
   "outputs": [
    {
     "data": {
      "text/plain": [
       "128"
      ]
     },
     "execution_count": 6,
     "metadata": {},
     "output_type": "execute_result"
    }
   ],
   "source": [
    "m.storage"
   ]
  },
  {
   "cell_type": "markdown",
   "id": "17a701c3",
   "metadata": {},
   "source": [
    "# Multiple Inheritance\n",
    "Inheritance from multiple parents"
   ]
  },
  {
   "cell_type": "code",
   "execution_count": 25,
   "id": "8b2a912a",
   "metadata": {},
   "outputs": [],
   "source": [
    "class father:\n",
    "    def __init__(self, fathername):\n",
    "        self.relation = \"father\"  #fixed values can also be accessed by the child\n",
    "        self.fathername = fathername\n",
    "class mother:\n",
    "    def __init__(self, mothername):\n",
    "        self.mothername = mothername"
   ]
  },
  {
   "cell_type": "code",
   "execution_count": 19,
   "id": "541cdae5",
   "metadata": {},
   "outputs": [],
   "source": [
    "class child(father, mother):\n",
    "    def __init__(self, childname, fathername, mothername):\n",
    "        self.childname = childname\n",
    "        father.__init__(self, fathername)\n",
    "        mother.__init__(self, mothername)\n",
    "    "
   ]
  },
  {
   "cell_type": "code",
   "execution_count": 20,
   "id": "d6ac8544",
   "metadata": {},
   "outputs": [],
   "source": [
    "c = child(\"Lov-Kush\",\"Ram\",\"Sita\")"
   ]
  },
  {
   "cell_type": "code",
   "execution_count": 21,
   "id": "5ef46a6f",
   "metadata": {},
   "outputs": [
    {
     "data": {
      "text/plain": [
       "'Sita'"
      ]
     },
     "execution_count": 21,
     "metadata": {},
     "output_type": "execute_result"
    }
   ],
   "source": [
    "c.mothername"
   ]
  },
  {
   "cell_type": "code",
   "execution_count": 22,
   "id": "acdb4086",
   "metadata": {},
   "outputs": [
    {
     "data": {
      "text/plain": [
       "'Ram'"
      ]
     },
     "execution_count": 22,
     "metadata": {},
     "output_type": "execute_result"
    }
   ],
   "source": [
    "c.fathername"
   ]
  },
  {
   "cell_type": "code",
   "execution_count": 23,
   "id": "e58fdacb",
   "metadata": {},
   "outputs": [
    {
     "data": {
      "text/plain": [
       "'Lov-Kush'"
      ]
     },
     "execution_count": 23,
     "metadata": {},
     "output_type": "execute_result"
    }
   ],
   "source": [
    "c.childname"
   ]
  },
  {
   "cell_type": "code",
   "execution_count": 26,
   "id": "12e111c6",
   "metadata": {},
   "outputs": [
    {
     "ename": "AttributeError",
     "evalue": "'child' object has no attribute 'relation'",
     "output_type": "error",
     "traceback": [
      "\u001b[1;31m---------------------------------------------------------------------------\u001b[0m",
      "\u001b[1;31mAttributeError\u001b[0m                            Traceback (most recent call last)",
      "\u001b[1;32m~\\AppData\\Local\\Temp\\ipykernel_14160\\774404269.py\u001b[0m in \u001b[0;36m<module>\u001b[1;34m\u001b[0m\n\u001b[1;32m----> 1\u001b[1;33m \u001b[0mc\u001b[0m\u001b[1;33m.\u001b[0m\u001b[0mrelation\u001b[0m\u001b[1;33m\u001b[0m\u001b[1;33m\u001b[0m\u001b[0m\n\u001b[0m",
      "\u001b[1;31mAttributeError\u001b[0m: 'child' object has no attribute 'relation'"
     ]
    }
   ],
   "source": [
    "c.relation #TODO"
   ]
  },
  {
   "cell_type": "markdown",
   "id": "1df40141",
   "metadata": {},
   "source": [
    "# Multilevel inheritance\n",
    "A to B to C"
   ]
  },
  {
   "cell_type": "markdown",
   "id": "e6f74e17",
   "metadata": {},
   "source": [
    "NOTE: Restricts private attributes from being accessed, protected can be accessed by selectives, public can be accessed by anyone"
   ]
  },
  {
   "cell_type": "markdown",
   "id": "8b8060dd",
   "metadata": {},
   "source": [
    "# Operator overloading in user defined class"
   ]
  },
  {
   "cell_type": "code",
   "execution_count": 31,
   "id": "83f8d303",
   "metadata": {},
   "outputs": [],
   "source": [
    "class person:\n",
    "    def __init__(self, name, balance):\n",
    "        self.name = name\n",
    "        self.balance = balance\n",
    "        \n",
    "    def __add__(self, nextob):\n",
    "        return self.balance + nextob.balance  #overloading, here p1 goes to self and p2 goes to nextob and their balance adds"
   ]
  },
  {
   "cell_type": "code",
   "execution_count": 32,
   "id": "43dfaf52",
   "metadata": {},
   "outputs": [],
   "source": [
    "p1 = person(\"Kusum\",95239652396239)\n",
    "p2 = person(\"Helen\",98674206)"
   ]
  },
  {
   "cell_type": "code",
   "execution_count": 33,
   "id": "eebe4745",
   "metadata": {},
   "outputs": [
    {
     "data": {
      "text/plain": [
       "95239751070445"
      ]
     },
     "execution_count": 33,
     "metadata": {},
     "output_type": "execute_result"
    }
   ],
   "source": [
    "p1 + p2"
   ]
  },
  {
   "cell_type": "markdown",
   "id": "662d956f",
   "metadata": {},
   "source": [
    "# Polymorphism\n",
    "\n",
    "has many forms. ex. + operator can add int, string and others hence it is polymorphic"
   ]
  },
  {
   "cell_type": "code",
   "execution_count": 34,
   "id": "d32b21ab",
   "metadata": {},
   "outputs": [],
   "source": [
    "class computer:\n",
    "    def __init__(self, ram, storage):\n",
    "        self.ram = ram\n",
    "        self.storage = storage\n",
    "    def display(self):\n",
    "        print(\"This is from Computer\")\n",
    "        \n",
    "class mobile(computer):\n",
    "    def __init__(self, ram, storage, camera_pixel):\n",
    "        self.camera_pixel = camera_pixel\n",
    "        super().__init__(ram,storage)"
   ]
  },
  {
   "cell_type": "code",
   "execution_count": 36,
   "id": "8dd31480",
   "metadata": {},
   "outputs": [],
   "source": [
    "m = mobile(8, 64, 128)"
   ]
  },
  {
   "cell_type": "code",
   "execution_count": 37,
   "id": "ceb0a13a",
   "metadata": {},
   "outputs": [
    {
     "data": {
      "text/plain": [
       "8"
      ]
     },
     "execution_count": 37,
     "metadata": {},
     "output_type": "execute_result"
    }
   ],
   "source": [
    "m.ram"
   ]
  },
  {
   "cell_type": "code",
   "execution_count": 38,
   "id": "1e2f1ebd",
   "metadata": {},
   "outputs": [
    {
     "name": "stdout",
     "output_type": "stream",
     "text": [
      "This is from Computer\n"
     ]
    }
   ],
   "source": [
    "m.display()"
   ]
  },
  {
   "cell_type": "markdown",
   "id": "2521a8c2",
   "metadata": {},
   "source": [
    "When child does not have its own feature then it uses the parent attribute. \n",
    "If it has its own then it overrides the parent attribute and displays its own attribute."
   ]
  },
  {
   "cell_type": "markdown",
   "id": "bafbbe23",
   "metadata": {},
   "source": [
    "# Encapsulation\n",
    "\n",
    "is wrapping the attributes inside function or similar"
   ]
  },
  {
   "cell_type": "markdown",
   "id": "1bcc57d0",
   "metadata": {},
   "source": [
    "# Abstraction\n",
    "\n",
    "hides the stuffs, for ex. function name is x and attibutes are added inside the x function, \n",
    "we use x function but do not show that inside x we are adding attributes\n"
   ]
  },
  {
   "cell_type": "code",
   "execution_count": null,
   "id": "4c944ca7",
   "metadata": {},
   "outputs": [],
   "source": []
  }
 ],
 "metadata": {
  "kernelspec": {
   "display_name": "Python 3 (ipykernel)",
   "language": "python",
   "name": "python3"
  },
  "language_info": {
   "codemirror_mode": {
    "name": "ipython",
    "version": 3
   },
   "file_extension": ".py",
   "mimetype": "text/x-python",
   "name": "python",
   "nbconvert_exporter": "python",
   "pygments_lexer": "ipython3",
   "version": "3.9.7"
  }
 },
 "nbformat": 4,
 "nbformat_minor": 5
}
