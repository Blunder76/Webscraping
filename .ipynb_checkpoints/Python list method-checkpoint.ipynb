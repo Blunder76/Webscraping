{
 "cells": [
  {
   "cell_type": "markdown",
   "id": "80a24fe9",
   "metadata": {},
   "source": [
    "# insert()"
   ]
  },
  {
   "cell_type": "code",
   "execution_count": 8,
   "id": "14f5e656",
   "metadata": {},
   "outputs": [],
   "source": [
    "numbers = [44, 22, 11, 566]"
   ]
  },
  {
   "cell_type": "code",
   "execution_count": 2,
   "id": "07cfc5bf",
   "metadata": {},
   "outputs": [],
   "source": [
    "numbers.insert(1, \"class2\")"
   ]
  },
  {
   "cell_type": "code",
   "execution_count": 3,
   "id": "9127176c",
   "metadata": {},
   "outputs": [
    {
     "data": {
      "text/plain": [
       "[44, 'class2', 22, 11, 566]"
      ]
     },
     "execution_count": 3,
     "metadata": {},
     "output_type": "execute_result"
    }
   ],
   "source": [
    "numbers"
   ]
  },
  {
   "cell_type": "markdown",
   "id": "bd50b59d",
   "metadata": {},
   "source": [
    "since python lists are mutable, class2 can be inserted in the list without assigning it"
   ]
  },
  {
   "cell_type": "code",
   "execution_count": 4,
   "id": "1c852693",
   "metadata": {},
   "outputs": [
    {
     "ename": "IndexError",
     "evalue": "list index out of range",
     "output_type": "error",
     "traceback": [
      "\u001b[1;31m---------------------------------------------------------------------------\u001b[0m",
      "\u001b[1;31mIndexError\u001b[0m                                Traceback (most recent call last)",
      "\u001b[1;32m~\\AppData\\Local\\Temp\\ipykernel_2892\\3124174719.py\u001b[0m in \u001b[0;36m<module>\u001b[1;34m\u001b[0m\n\u001b[1;32m----> 1\u001b[1;33m \u001b[0mnumbers\u001b[0m\u001b[1;33m[\u001b[0m\u001b[1;36m7\u001b[0m\u001b[1;33m]\u001b[0m\u001b[1;33m\u001b[0m\u001b[1;33m\u001b[0m\u001b[0m\n\u001b[0m",
      "\u001b[1;31mIndexError\u001b[0m: list index out of range"
     ]
    }
   ],
   "source": [
    "numbers[7]"
   ]
  },
  {
   "cell_type": "code",
   "execution_count": 5,
   "id": "9ee03c8a",
   "metadata": {},
   "outputs": [],
   "source": [
    "numbers.insert(7, 'seventh index')"
   ]
  },
  {
   "cell_type": "code",
   "execution_count": 6,
   "id": "1e20cf83",
   "metadata": {},
   "outputs": [
    {
     "data": {
      "text/plain": [
       "[44, 'class2', 22, 11, 566, 'seventh index']"
      ]
     },
     "execution_count": 6,
     "metadata": {},
     "output_type": "execute_result"
    }
   ],
   "source": [
    "numbers"
   ]
  },
  {
   "cell_type": "code",
   "execution_count": 7,
   "id": "772fabdb",
   "metadata": {},
   "outputs": [
    {
     "data": {
      "text/plain": [
       "'seventh index'"
      ]
     },
     "execution_count": 7,
     "metadata": {},
     "output_type": "execute_result"
    }
   ],
   "source": [
    "numbers[5]"
   ]
  },
  {
   "cell_type": "markdown",
   "id": "d150816b",
   "metadata": {},
   "source": [
    "# append()"
   ]
  },
  {
   "cell_type": "markdown",
   "id": "f5b6fa5a",
   "metadata": {},
   "source": [
    "is mostly used in python"
   ]
  },
  {
   "cell_type": "code",
   "execution_count": 9,
   "id": "e2af9a00",
   "metadata": {},
   "outputs": [],
   "source": [
    "cars = ['Audi', 'BMW','Mercedes','Maruti']"
   ]
  },
  {
   "cell_type": "code",
   "execution_count": 10,
   "id": "70c66351",
   "metadata": {},
   "outputs": [
    {
     "data": {
      "text/plain": [
       "['Audi', 'BMW', 'Mercedes', 'Maruti']"
      ]
     },
     "execution_count": 10,
     "metadata": {},
     "output_type": "execute_result"
    }
   ],
   "source": [
    "cars"
   ]
  },
  {
   "cell_type": "code",
   "execution_count": 11,
   "id": "b1875426",
   "metadata": {},
   "outputs": [],
   "source": [
    "cars.append('Tesla')"
   ]
  },
  {
   "cell_type": "code",
   "execution_count": 12,
   "id": "b35f8133",
   "metadata": {},
   "outputs": [
    {
     "data": {
      "text/plain": [
       "['Audi', 'BMW', 'Mercedes', 'Maruti', 'Tesla']"
      ]
     },
     "execution_count": 12,
     "metadata": {},
     "output_type": "execute_result"
    }
   ],
   "source": [
    "cars"
   ]
  },
  {
   "cell_type": "code",
   "execution_count": 14,
   "id": "b192f368",
   "metadata": {},
   "outputs": [],
   "source": [
    "prime_numbers = [1,2,3,5,7,11]"
   ]
  },
  {
   "cell_type": "code",
   "execution_count": 21,
   "id": "d3030171",
   "metadata": {},
   "outputs": [],
   "source": [
    "num_squares = []\n",
    "#num_squares = list()\n",
    "for item in prime_numbers:\n",
    "    square = item **2\n",
    "    num_squares.append(square)"
   ]
  },
  {
   "cell_type": "code",
   "execution_count": 23,
   "id": "340c22ea",
   "metadata": {},
   "outputs": [
    {
     "data": {
      "text/plain": [
       "[1, 4, 9, 25, 49, 121]"
      ]
     },
     "execution_count": 23,
     "metadata": {},
     "output_type": "execute_result"
    }
   ],
   "source": [
    "num_squares"
   ]
  },
  {
   "cell_type": "markdown",
   "id": "45c3c556",
   "metadata": {},
   "source": [
    "# extend()"
   ]
  },
  {
   "cell_type": "code",
   "execution_count": 24,
   "id": "827285dc",
   "metadata": {},
   "outputs": [],
   "source": [
    "list1 = ['marker','board','flex']\n",
    "list2 = ['duster', 'pen', 'paper']"
   ]
  },
  {
   "cell_type": "code",
   "execution_count": 25,
   "id": "ded192ff",
   "metadata": {},
   "outputs": [
    {
     "data": {
      "text/plain": [
       "['marker', 'board', 'flex']"
      ]
     },
     "execution_count": 25,
     "metadata": {},
     "output_type": "execute_result"
    }
   ],
   "source": [
    "list1"
   ]
  },
  {
   "cell_type": "code",
   "execution_count": 26,
   "id": "ba15d34c",
   "metadata": {},
   "outputs": [
    {
     "data": {
      "text/plain": [
       "['duster', 'pen', 'paper']"
      ]
     },
     "execution_count": 26,
     "metadata": {},
     "output_type": "execute_result"
    }
   ],
   "source": [
    "list2"
   ]
  },
  {
   "cell_type": "code",
   "execution_count": 27,
   "id": "738567ff",
   "metadata": {},
   "outputs": [],
   "source": [
    "list1.extend(list2)"
   ]
  },
  {
   "cell_type": "code",
   "execution_count": 28,
   "id": "580e79f4",
   "metadata": {},
   "outputs": [
    {
     "data": {
      "text/plain": [
       "['marker', 'board', 'flex', 'duster', 'pen', 'paper']"
      ]
     },
     "execution_count": 28,
     "metadata": {},
     "output_type": "execute_result"
    }
   ],
   "source": [
    "list1"
   ]
  },
  {
   "cell_type": "code",
   "execution_count": 29,
   "id": "ee449d53",
   "metadata": {},
   "outputs": [
    {
     "data": {
      "text/plain": [
       "['duster', 'pen', 'paper']"
      ]
     },
     "execution_count": 29,
     "metadata": {},
     "output_type": "execute_result"
    }
   ],
   "source": [
    "list2"
   ]
  },
  {
   "cell_type": "markdown",
   "id": "f0562581",
   "metadata": {},
   "source": [
    "The same thing as extend can also be done this way"
   ]
  },
  {
   "cell_type": "code",
   "execution_count": 30,
   "id": "dfaa46c6",
   "metadata": {},
   "outputs": [],
   "source": [
    "list1 = ['marker','board','flex']\n",
    "list2 = ['duster', 'pen', 'paper']\n",
    "list3 = list1 + list2"
   ]
  },
  {
   "cell_type": "code",
   "execution_count": 31,
   "id": "08d2c9c7",
   "metadata": {},
   "outputs": [
    {
     "data": {
      "text/plain": [
       "['marker', 'board', 'flex', 'duster', 'pen', 'paper']"
      ]
     },
     "execution_count": 31,
     "metadata": {},
     "output_type": "execute_result"
    }
   ],
   "source": [
    "list3"
   ]
  },
  {
   "cell_type": "markdown",
   "id": "a00466fb",
   "metadata": {},
   "source": [
    "# remove()"
   ]
  },
  {
   "cell_type": "code",
   "execution_count": 33,
   "id": "9189dffd",
   "metadata": {},
   "outputs": [],
   "source": [
    "list1 = ['marker','board','flex']\n",
    "list2 = ['duster', 'pen', 'paper']\n",
    "list3 = list1 + list2"
   ]
  },
  {
   "cell_type": "code",
   "execution_count": 34,
   "id": "72a098f6",
   "metadata": {},
   "outputs": [
    {
     "data": {
      "text/plain": [
       "['marker', 'board', 'flex', 'duster', 'pen', 'paper']"
      ]
     },
     "execution_count": 34,
     "metadata": {},
     "output_type": "execute_result"
    }
   ],
   "source": [
    "list3"
   ]
  },
  {
   "cell_type": "code",
   "execution_count": 35,
   "id": "ba300632",
   "metadata": {},
   "outputs": [],
   "source": [
    "cars = ['Audi', 'BMW','Mercedes','Maruti']"
   ]
  },
  {
   "cell_type": "code",
   "execution_count": null,
   "id": "62efb116",
   "metadata": {},
   "outputs": [],
   "source": [
    "cars.extend"
   ]
  },
  {
   "cell_type": "code",
   "execution_count": 37,
   "id": "f23d6d94",
   "metadata": {},
   "outputs": [],
   "source": [
    "cars.remove('Maruti')"
   ]
  },
  {
   "cell_type": "code",
   "execution_count": 38,
   "id": "2c2c5a45",
   "metadata": {},
   "outputs": [
    {
     "data": {
      "text/plain": [
       "['Audi', 'BMW', 'Mercedes']"
      ]
     },
     "execution_count": 38,
     "metadata": {},
     "output_type": "execute_result"
    }
   ],
   "source": [
    "cars"
   ]
  },
  {
   "cell_type": "markdown",
   "id": "2115ba67",
   "metadata": {},
   "source": [
    "but this remove method can only remove the first data it finds of the same name. If there are multiple data of same name then this method will only remove th first one of the same name from the list"
   ]
  },
  {
   "cell_type": "markdown",
   "id": "30f8da61",
   "metadata": {},
   "source": [
    "# LIFO: Last In First Out\n"
   ]
  },
  {
   "cell_type": "code",
   "execution_count": 40,
   "id": "8a718003",
   "metadata": {},
   "outputs": [],
   "source": [
    "cars.append('Tesla')"
   ]
  },
  {
   "cell_type": "code",
   "execution_count": 41,
   "id": "50426fb4",
   "metadata": {},
   "outputs": [],
   "source": [
    "cars.append('Maruti')"
   ]
  },
  {
   "cell_type": "code",
   "execution_count": 42,
   "id": "631c4d90",
   "metadata": {},
   "outputs": [
    {
     "data": {
      "text/plain": [
       "['Audi', 'BMW', 'Mercedes', 'Tesla', 'Maruti']"
      ]
     },
     "execution_count": 42,
     "metadata": {},
     "output_type": "execute_result"
    }
   ],
   "source": [
    "cars"
   ]
  },
  {
   "cell_type": "code",
   "execution_count": 43,
   "id": "9e0ebc4b",
   "metadata": {},
   "outputs": [
    {
     "data": {
      "text/plain": [
       "'Maruti'"
      ]
     },
     "execution_count": 43,
     "metadata": {},
     "output_type": "execute_result"
    }
   ],
   "source": [
    "cars.pop() #pop takes out the last data"
   ]
  },
  {
   "cell_type": "code",
   "execution_count": 44,
   "id": "2a1dc523",
   "metadata": {},
   "outputs": [
    {
     "data": {
      "text/plain": [
       "['Audi', 'BMW', 'Mercedes', 'Tesla']"
      ]
     },
     "execution_count": 44,
     "metadata": {},
     "output_type": "execute_result"
    }
   ],
   "source": [
    "cars"
   ]
  },
  {
   "cell_type": "markdown",
   "id": "8c723ac8",
   "metadata": {},
   "source": [
    "# POP using index"
   ]
  },
  {
   "cell_type": "code",
   "execution_count": 45,
   "id": "f3a173a8",
   "metadata": {},
   "outputs": [],
   "source": [
    "cars = ['Audi', 'BMW', 'Mercedes', 'Tesla', 'Maruti']"
   ]
  },
  {
   "cell_type": "code",
   "execution_count": 47,
   "id": "b56588ae",
   "metadata": {},
   "outputs": [
    {
     "data": {
      "text/plain": [
       "'BMW'"
      ]
     },
     "execution_count": 47,
     "metadata": {},
     "output_type": "execute_result"
    }
   ],
   "source": [
    "cars.pop(1)"
   ]
  },
  {
   "cell_type": "code",
   "execution_count": 48,
   "id": "b70015da",
   "metadata": {},
   "outputs": [
    {
     "data": {
      "text/plain": [
       "['Audi', 'Mercedes', 'Tesla', 'Maruti']"
      ]
     },
     "execution_count": 48,
     "metadata": {},
     "output_type": "execute_result"
    }
   ],
   "source": [
    "cars"
   ]
  },
  {
   "cell_type": "code",
   "execution_count": null,
   "id": "9b77c959",
   "metadata": {},
   "outputs": [],
   "source": []
  }
 ],
 "metadata": {
  "kernelspec": {
   "display_name": "Python 3 (ipykernel)",
   "language": "python",
   "name": "python3"
  },
  "language_info": {
   "codemirror_mode": {
    "name": "ipython",
    "version": 3
   },
   "file_extension": ".py",
   "mimetype": "text/x-python",
   "name": "python",
   "nbconvert_exporter": "python",
   "pygments_lexer": "ipython3",
   "version": "3.9.7"
  }
 },
 "nbformat": 4,
 "nbformat_minor": 5
}
