{
 "cells": [
  {
   "cell_type": "markdown",
   "id": "ff8bbc4b",
   "metadata": {},
   "source": [
    "# Recursion in python"
   ]
  },
  {
   "cell_type": "markdown",
   "id": "fad6e7bb",
   "metadata": {},
   "source": [
    "when a function calls a function with its own name then it is recursive function  >> is a function that calls itself  >>stopping conditions should be applied or maximum recursive death accident error will occur"
   ]
  },
  {
   "cell_type": "code",
   "execution_count": 7,
   "id": "c551ea89",
   "metadata": {},
   "outputs": [],
   "source": [
    "#factorial using loop\n",
    "num = 5\n",
    "fact = 1\n",
    "for index in range(1, num+1):\n",
    "    fact =  fact * index\n"
   ]
  },
  {
   "cell_type": "code",
   "execution_count": 8,
   "id": "b0991f2d",
   "metadata": {},
   "outputs": [
    {
     "data": {
      "text/plain": [
       "120"
      ]
     },
     "execution_count": 8,
     "metadata": {},
     "output_type": "execute_result"
    }
   ],
   "source": [
    "fact"
   ]
  },
  {
   "cell_type": "code",
   "execution_count": 21,
   "id": "09457923",
   "metadata": {},
   "outputs": [],
   "source": [
    "#factorial using recursive\n",
    "\n",
    "def factorial(num):\n",
    "    if num == 0 or num == 1:  #stopping condition should be applied or error will occur\n",
    "        return 1\n",
    "    else:\n",
    "        return num * factorial(num - 1)"
   ]
  },
  {
   "cell_type": "code",
   "execution_count": 10,
   "id": "73edff29",
   "metadata": {},
   "outputs": [
    {
     "data": {
      "text/plain": [
       "120"
      ]
     },
     "execution_count": 10,
     "metadata": {},
     "output_type": "execute_result"
    }
   ],
   "source": [
    "factorial(5)"
   ]
  },
  {
   "cell_type": "code",
   "execution_count": 11,
   "id": "d67329a7",
   "metadata": {},
   "outputs": [
    {
     "data": {
      "text/plain": [
       "1"
      ]
     },
     "execution_count": 11,
     "metadata": {},
     "output_type": "execute_result"
    }
   ],
   "source": [
    "factorial(0)"
   ]
  },
  {
   "cell_type": "code",
   "execution_count": 12,
   "id": "f7d67b11",
   "metadata": {},
   "outputs": [
    {
     "data": {
      "text/plain": [
       "1"
      ]
     },
     "execution_count": 12,
     "metadata": {},
     "output_type": "execute_result"
    }
   ],
   "source": [
    "factorial(1)"
   ]
  },
  {
   "cell_type": "code",
   "execution_count": 15,
   "id": "f8e15232",
   "metadata": {},
   "outputs": [
    {
     "data": {
      "text/plain": [
       "2"
      ]
     },
     "execution_count": 15,
     "metadata": {},
     "output_type": "execute_result"
    }
   ],
   "source": [
    "factorial(2)"
   ]
  },
  {
   "cell_type": "code",
   "execution_count": 16,
   "id": "5fcf67c4",
   "metadata": {},
   "outputs": [
    {
     "data": {
      "text/plain": [
       "6"
      ]
     },
     "execution_count": 16,
     "metadata": {},
     "output_type": "execute_result"
    }
   ],
   "source": [
    "factorial(3)"
   ]
  },
  {
   "cell_type": "code",
   "execution_count": 17,
   "id": "35cb5689",
   "metadata": {},
   "outputs": [
    {
     "data": {
      "text/plain": [
       "24"
      ]
     },
     "execution_count": 17,
     "metadata": {},
     "output_type": "execute_result"
    }
   ],
   "source": [
    "factorial(4)"
   ]
  },
  {
   "cell_type": "code",
   "execution_count": 18,
   "id": "f6a98e9c",
   "metadata": {},
   "outputs": [
    {
     "data": {
      "text/plain": [
       "120"
      ]
     },
     "execution_count": 18,
     "metadata": {},
     "output_type": "execute_result"
    }
   ],
   "source": [
    "factorial(5)"
   ]
  },
  {
   "cell_type": "code",
   "execution_count": 19,
   "id": "109e8e2f",
   "metadata": {},
   "outputs": [
    {
     "data": {
      "text/plain": [
       "720"
      ]
     },
     "execution_count": 19,
     "metadata": {},
     "output_type": "execute_result"
    }
   ],
   "source": [
    "factorial(6)"
   ]
  },
  {
   "cell_type": "code",
   "execution_count": 20,
   "id": "e9b73c3f",
   "metadata": {},
   "outputs": [
    {
     "data": {
      "text/plain": [
       "5040"
      ]
     },
     "execution_count": 20,
     "metadata": {},
     "output_type": "execute_result"
    }
   ],
   "source": [
    "factorial(7)"
   ]
  },
  {
   "cell_type": "markdown",
   "id": "c007b5ae",
   "metadata": {},
   "source": [
    "# pass keyword"
   ]
  },
  {
   "cell_type": "code",
   "execution_count": 22,
   "id": "146f395d",
   "metadata": {},
   "outputs": [],
   "source": [
    "def test():\n",
    "    pass"
   ]
  },
  {
   "cell_type": "markdown",
   "id": "da50b55d",
   "metadata": {},
   "source": [
    "pass is used when function is defined but nothing is done inside the function"
   ]
  },
  {
   "cell_type": "markdown",
   "id": "44b97b3b",
   "metadata": {},
   "source": [
    "# break"
   ]
  },
  {
   "cell_type": "code",
   "execution_count": 24,
   "id": "6b856bcf",
   "metadata": {},
   "outputs": [
    {
     "name": "stdout",
     "output_type": "stream",
     "text": [
      "0\n",
      "1\n",
      "2\n"
     ]
    }
   ],
   "source": [
    "for index in range(5):\n",
    "    if index == 2:\n",
    "        print(index)\n",
    "        break\n",
    "    else:\n",
    "        print(index)"
   ]
  },
  {
   "cell_type": "code",
   "execution_count": 25,
   "id": "db3ce6b6",
   "metadata": {},
   "outputs": [
    {
     "name": "stdout",
     "output_type": "stream",
     "text": [
      "0\n",
      "1\n",
      "3\n",
      "4\n"
     ]
    }
   ],
   "source": [
    "for index in range(5):\n",
    "    if index == 2:\n",
    "        continue\n",
    "        print(index)\n",
    "        \n",
    "    else:\n",
    "        print(index)"
   ]
  },
  {
   "cell_type": "markdown",
   "id": "ae76938a",
   "metadata": {},
   "source": [
    "break breaks the loop, continue skips one over the loop and continues with the next one"
   ]
  },
  {
   "cell_type": "code",
   "execution_count": null,
   "id": "62b9d24c",
   "metadata": {},
   "outputs": [],
   "source": []
  }
 ],
 "metadata": {
  "kernelspec": {
   "display_name": "Python 3 (ipykernel)",
   "language": "python",
   "name": "python3"
  },
  "language_info": {
   "codemirror_mode": {
    "name": "ipython",
    "version": 3
   },
   "file_extension": ".py",
   "mimetype": "text/x-python",
   "name": "python",
   "nbconvert_exporter": "python",
   "pygments_lexer": "ipython3",
   "version": "3.9.7"
  }
 },
 "nbformat": 4,
 "nbformat_minor": 5
}
