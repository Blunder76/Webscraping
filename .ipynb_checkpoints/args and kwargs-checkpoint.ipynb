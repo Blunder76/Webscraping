{
 "cells": [
  {
   "cell_type": "markdown",
   "id": "73a93128",
   "metadata": {},
   "source": [
    "# args and kwargs (special keywords of python)"
   ]
  },
  {
   "cell_type": "markdown",
   "id": "a344afd7",
   "metadata": {},
   "source": [
    "is used to take multiple and dynamic input for the program of variable length\n",
    "-- the star before args is used when the number of input is not known\n",
    "\n",
    ">> *args - one star, tuple can be performed\n",
    ">> **kwargs - two stars, dictionary operation can be performed"
   ]
  },
  {
   "cell_type": "code",
   "execution_count": 6,
   "id": "2cecc40e",
   "metadata": {},
   "outputs": [],
   "source": [
    "def add(*args):  #args can be replaced with other keywords but better to use args\n",
    "    print(args)  #if something else is used instead of (*args) then here the same keyword should be used\n",
    "    print(type(args))"
   ]
  },
  {
   "cell_type": "code",
   "execution_count": 7,
   "id": "3a47fa24",
   "metadata": {},
   "outputs": [
    {
     "name": "stdout",
     "output_type": "stream",
     "text": [
      "(1,)\n",
      "<class 'tuple'>\n"
     ]
    }
   ],
   "source": [
    "add(1)"
   ]
  },
  {
   "cell_type": "code",
   "execution_count": 8,
   "id": "664e1e42",
   "metadata": {},
   "outputs": [
    {
     "name": "stdout",
     "output_type": "stream",
     "text": [
      "(1, 2, 3)\n",
      "<class 'tuple'>\n"
     ]
    }
   ],
   "source": [
    "add(1,2,3)"
   ]
  },
  {
   "cell_type": "code",
   "execution_count": 4,
   "id": "e9d8693f",
   "metadata": {},
   "outputs": [],
   "source": [
    "def add(*args):\n",
    "    total = 0\n",
    "    for item in args:\n",
    "        total = total + item\n",
    "    return total"
   ]
  },
  {
   "cell_type": "code",
   "execution_count": 5,
   "id": "63aa3b9c",
   "metadata": {},
   "outputs": [
    {
     "data": {
      "text/plain": [
       "71"
      ]
     },
     "execution_count": 5,
     "metadata": {},
     "output_type": "execute_result"
    }
   ],
   "source": [
    "add(8,10,33,9,5,6)"
   ]
  },
  {
   "cell_type": "code",
   "execution_count": null,
   "id": "703abc35",
   "metadata": {},
   "outputs": [],
   "source": []
  },
  {
   "cell_type": "code",
   "execution_count": 15,
   "id": "77fa24d1",
   "metadata": {},
   "outputs": [],
   "source": [
    "def details(**kwargs):\n",
    "    name = kwargs.get('firstname')\n",
    "    print(name)\n",
    "    print(kwargs)\n",
    "    print(type(kwargs))"
   ]
  },
  {
   "cell_type": "code",
   "execution_count": 17,
   "id": "02a77193",
   "metadata": {},
   "outputs": [
    {
     "ename": "TypeError",
     "evalue": "details() takes 0 positional arguments but 3 were given",
     "output_type": "error",
     "traceback": [
      "\u001b[1;31m---------------------------------------------------------------------------\u001b[0m",
      "\u001b[1;31mTypeError\u001b[0m                                 Traceback (most recent call last)",
      "\u001b[1;32m~\\AppData\\Local\\Temp\\ipykernel_1088\\3880117041.py\u001b[0m in \u001b[0;36m<module>\u001b[1;34m\u001b[0m\n\u001b[1;32m----> 1\u001b[1;33m \u001b[0mdetails\u001b[0m\u001b[1;33m(\u001b[0m\u001b[1;36m1\u001b[0m\u001b[1;33m,\u001b[0m\u001b[1;36m2\u001b[0m\u001b[1;33m,\u001b[0m\u001b[1;36m3\u001b[0m\u001b[1;33m)\u001b[0m  \u001b[1;31m#bc kwargs take multiple inputs using assignment operator\u001b[0m\u001b[1;33m\u001b[0m\u001b[1;33m\u001b[0m\u001b[0m\n\u001b[0m",
      "\u001b[1;31mTypeError\u001b[0m: details() takes 0 positional arguments but 3 were given"
     ]
    }
   ],
   "source": [
    "details(1,2,3)  #bc kwargs take multiple inputs using assignment operator"
   ]
  },
  {
   "cell_type": "code",
   "execution_count": 16,
   "id": "5f4f6780",
   "metadata": {},
   "outputs": [
    {
     "name": "stdout",
     "output_type": "stream",
     "text": [
      "Kusum\n",
      "{'firstname': 'Kusum', 'age': 22, 'learns': ['Python', 'AI']}\n",
      "<class 'dict'>\n"
     ]
    }
   ],
   "source": [
    "details(firstname = 'Kusum', age = 22, learns = ['Python','AI']) #converts the type into dictionary"
   ]
  },
  {
   "cell_type": "code",
   "execution_count": 13,
   "id": "b94eb94e",
   "metadata": {},
   "outputs": [
    {
     "data": {
      "text/plain": [
       "<function __main__.details(**kwargs)>"
      ]
     },
     "execution_count": 13,
     "metadata": {},
     "output_type": "execute_result"
    }
   ],
   "source": [
    "details"
   ]
  },
  {
   "cell_type": "code",
   "execution_count": null,
   "id": "59a0472d",
   "metadata": {},
   "outputs": [],
   "source": []
  }
 ],
 "metadata": {
  "kernelspec": {
   "display_name": "Python 3 (ipykernel)",
   "language": "python",
   "name": "python3"
  },
  "language_info": {
   "codemirror_mode": {
    "name": "ipython",
    "version": 3
   },
   "file_extension": ".py",
   "mimetype": "text/x-python",
   "name": "python",
   "nbconvert_exporter": "python",
   "pygments_lexer": "ipython3",
   "version": "3.9.7"
  }
 },
 "nbformat": 4,
 "nbformat_minor": 5
}
