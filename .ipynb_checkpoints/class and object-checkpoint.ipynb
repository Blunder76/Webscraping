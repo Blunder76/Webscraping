{
 "cells": [
  {
   "cell_type": "markdown",
   "id": "40b406f2",
   "metadata": {},
   "source": [
    "# Class and Objects"
   ]
  },
  {
   "cell_type": "code",
   "execution_count": 1,
   "id": "62514cf4",
   "metadata": {},
   "outputs": [],
   "source": [
    "class alpha:\n",
    "    pass"
   ]
  },
  {
   "cell_type": "code",
   "execution_count": 2,
   "id": "4397fab8",
   "metadata": {},
   "outputs": [],
   "source": [
    "obj = alpha();"
   ]
  },
  {
   "cell_type": "code",
   "execution_count": 3,
   "id": "a20eebea",
   "metadata": {},
   "outputs": [
    {
     "name": "stdout",
     "output_type": "stream",
     "text": [
      "<class '__main__.alpha'>\n"
     ]
    }
   ],
   "source": [
    "print(type(obj))"
   ]
  },
  {
   "cell_type": "code",
   "execution_count": 5,
   "id": "a222cb8e",
   "metadata": {},
   "outputs": [
    {
     "name": "stdout",
     "output_type": "stream",
     "text": [
      "<class '__main__.alpha'>\n"
     ]
    }
   ],
   "source": [
    "if __name__ == \"__main__\": #entry point of python program\n",
    "    obj = alpha()\n",
    "    print(type(obj))"
   ]
  },
  {
   "cell_type": "markdown",
   "id": "da5760f3",
   "metadata": {},
   "source": [
    "\n",
    "# class attribute and instance attribute"
   ]
  },
  {
   "cell_type": "code",
   "execution_count": 6,
   "id": "5f4a13ad",
   "metadata": {},
   "outputs": [],
   "source": [
    "class Vehicle:\n",
    "    wheeler = 4"
   ]
  },
  {
   "cell_type": "code",
   "execution_count": 7,
   "id": "a4c4c099",
   "metadata": {},
   "outputs": [],
   "source": [
    "car = Vehicle()"
   ]
  },
  {
   "cell_type": "code",
   "execution_count": 8,
   "id": "a80dbed7",
   "metadata": {},
   "outputs": [
    {
     "data": {
      "text/plain": [
       "4"
      ]
     },
     "execution_count": 8,
     "metadata": {},
     "output_type": "execute_result"
    }
   ],
   "source": [
    "car.wheeler"
   ]
  },
  {
   "cell_type": "code",
   "execution_count": 9,
   "id": "d74a5f68",
   "metadata": {},
   "outputs": [],
   "source": [
    "bus = Vehicle()"
   ]
  },
  {
   "cell_type": "code",
   "execution_count": 10,
   "id": "88dfe6b7",
   "metadata": {},
   "outputs": [
    {
     "data": {
      "text/plain": [
       "4"
      ]
     },
     "execution_count": 10,
     "metadata": {},
     "output_type": "execute_result"
    }
   ],
   "source": [
    "bus.wheeler"
   ]
  },
  {
   "cell_type": "code",
   "execution_count": 2,
   "id": "eaa2bcb5",
   "metadata": {},
   "outputs": [],
   "source": [
    "class Vehicle:\n",
    "    wheeler = 4\n",
    "    \n",
    "    def __init__(self, no_of_seat):\n",
    "        type(self)  #self is an object\n",
    "        self.no_of_seat = no_of_seat"
   ]
  },
  {
   "cell_type": "code",
   "execution_count": 10,
   "id": "3656df40",
   "metadata": {},
   "outputs": [],
   "source": [
    "car = Vehicle(6)"
   ]
  },
  {
   "cell_type": "code",
   "execution_count": 11,
   "id": "6aa08e05",
   "metadata": {},
   "outputs": [
    {
     "data": {
      "text/plain": [
       "4"
      ]
     },
     "execution_count": 11,
     "metadata": {},
     "output_type": "execute_result"
    }
   ],
   "source": [
    "car.wheeler"
   ]
  },
  {
   "cell_type": "code",
   "execution_count": 12,
   "id": "5029e1a9",
   "metadata": {},
   "outputs": [
    {
     "data": {
      "text/plain": [
       "6"
      ]
     },
     "execution_count": 12,
     "metadata": {},
     "output_type": "execute_result"
    }
   ],
   "source": [
    "car.no_of_seat"
   ]
  },
  {
   "cell_type": "code",
   "execution_count": 13,
   "id": "1f29e48d",
   "metadata": {},
   "outputs": [],
   "source": [
    "bus = Vehicle(50)"
   ]
  },
  {
   "cell_type": "code",
   "execution_count": 14,
   "id": "3b952c6a",
   "metadata": {},
   "outputs": [
    {
     "data": {
      "text/plain": [
       "4"
      ]
     },
     "execution_count": 14,
     "metadata": {},
     "output_type": "execute_result"
    }
   ],
   "source": [
    "bus.wheeler"
   ]
  },
  {
   "cell_type": "code",
   "execution_count": 15,
   "id": "4429ab2b",
   "metadata": {},
   "outputs": [
    {
     "data": {
      "text/plain": [
       "50"
      ]
     },
     "execution_count": 15,
     "metadata": {},
     "output_type": "execute_result"
    }
   ],
   "source": [
    "bus.no_of_seat"
   ]
  },
  {
   "cell_type": "code",
   "execution_count": 18,
   "id": "1ed5e86d",
   "metadata": {},
   "outputs": [],
   "source": [
    "class person:\n",
    "    def __init__(self, name, age):  #to initialize/define attribute of an object\n",
    "        self.name = name\n",
    "        self.age = age"
   ]
  },
  {
   "cell_type": "code",
   "execution_count": 19,
   "id": "9f99cb69",
   "metadata": {},
   "outputs": [],
   "source": [
    "p1 = person(\"Kusum\",22)"
   ]
  },
  {
   "cell_type": "code",
   "execution_count": 20,
   "id": "b52b482b",
   "metadata": {},
   "outputs": [
    {
     "data": {
      "text/plain": [
       "<__main__.person at 0x23376392370>"
      ]
     },
     "execution_count": 20,
     "metadata": {},
     "output_type": "execute_result"
    }
   ],
   "source": [
    "p1"
   ]
  },
  {
   "cell_type": "code",
   "execution_count": 21,
   "id": "f1f2f304",
   "metadata": {},
   "outputs": [
    {
     "data": {
      "text/plain": [
       "'Kusum'"
      ]
     },
     "execution_count": 21,
     "metadata": {},
     "output_type": "execute_result"
    }
   ],
   "source": [
    "p1.name"
   ]
  },
  {
   "cell_type": "code",
   "execution_count": 22,
   "id": "1eef45ea",
   "metadata": {},
   "outputs": [
    {
     "data": {
      "text/plain": [
       "22"
      ]
     },
     "execution_count": 22,
     "metadata": {},
     "output_type": "execute_result"
    }
   ],
   "source": [
    "p1.age"
   ]
  },
  {
   "cell_type": "markdown",
   "id": "81df2826",
   "metadata": {},
   "source": [
    "NOTE: constructor creates an object __new__ is a constructor, __init__ is not a constructor as (self) is passed in __init__, is already created in the object "
   ]
  },
  {
   "cell_type": "code",
   "execution_count": 23,
   "id": "59254345",
   "metadata": {},
   "outputs": [],
   "source": [
    "def test(*args, **kwargs):\n",
    "    print(args)\n",
    "    print(kwargs)"
   ]
  },
  {
   "cell_type": "code",
   "execution_count": 25,
   "id": "9343df7d",
   "metadata": {},
   "outputs": [
    {
     "name": "stdout",
     "output_type": "stream",
     "text": [
      "(2, 3, 4)\n",
      "{'firstname': 'Kusum', 'age': 22}\n"
     ]
    }
   ],
   "source": [
    "test(2,3,4, firstname = \"Kusum\", age = 22)   #here both tuple and dictionary values are given and args recognize tuple whereas kwargs recognize dictionary values"
   ]
  },
  {
   "cell_type": "code",
   "execution_count": 26,
   "id": "dbd6806e",
   "metadata": {},
   "outputs": [],
   "source": [
    "class person:\n",
    "    def __init__(self, name, age):\n",
    "        self.name = name\n",
    "        self.age = age\n",
    "        \n",
    "    def display(self):\n",
    "        print (\"Your name is {} and your age is {}\".format(self.name, self.age))"
   ]
  },
  {
   "cell_type": "code",
   "execution_count": 27,
   "id": "cdd3a08f",
   "metadata": {},
   "outputs": [],
   "source": [
    "P1 = person(\"Kusum\", 22)"
   ]
  },
  {
   "cell_type": "code",
   "execution_count": 32,
   "id": "2a48eda9",
   "metadata": {},
   "outputs": [
    {
     "name": "stdout",
     "output_type": "stream",
     "text": [
      "Your name is Kusum and your age is 22\n"
     ]
    }
   ],
   "source": [
    "P1.display()"
   ]
  },
  {
   "cell_type": "code",
   "execution_count": 33,
   "id": "1e85d79e",
   "metadata": {},
   "outputs": [],
   "source": [
    "P2 = person(\"Sita\",56)"
   ]
  },
  {
   "cell_type": "code",
   "execution_count": 34,
   "id": "938e8136",
   "metadata": {},
   "outputs": [
    {
     "name": "stdout",
     "output_type": "stream",
     "text": [
      "Your name is Sita and your age is 56\n"
     ]
    }
   ],
   "source": [
    "P2.display()"
   ]
  },
  {
   "cell_type": "code",
   "execution_count": null,
   "id": "40613cda",
   "metadata": {},
   "outputs": [],
   "source": [
    "#CLASSWORK circle = class, object and attribute is radius -- display radius"
   ]
  },
  {
   "cell_type": "code",
   "execution_count": 35,
   "id": "00751895",
   "metadata": {},
   "outputs": [],
   "source": [
    "class circle:\n",
    "    def __init__(self, radius):\n",
    "        self.radius = radius\n",
    "    def display(self):\n",
    "        print(\"The radius of the circle is {}\".format(self.radius))"
   ]
  },
  {
   "cell_type": "code",
   "execution_count": 37,
   "id": "31202465",
   "metadata": {},
   "outputs": [],
   "source": [
    "C1 = circle(7)"
   ]
  },
  {
   "cell_type": "code",
   "execution_count": 38,
   "id": "69b47340",
   "metadata": {},
   "outputs": [
    {
     "name": "stdout",
     "output_type": "stream",
     "text": [
      "The radius of the circle is 7\n"
     ]
    }
   ],
   "source": [
    "C1.display()"
   ]
  },
  {
   "cell_type": "code",
   "execution_count": 39,
   "id": "dc9e6ccd",
   "metadata": {},
   "outputs": [],
   "source": [
    "C2 = circle(14)"
   ]
  },
  {
   "cell_type": "code",
   "execution_count": 41,
   "id": "18f249ac",
   "metadata": {},
   "outputs": [
    {
     "name": "stdout",
     "output_type": "stream",
     "text": [
      "The radius of the circle is 14\n"
     ]
    }
   ],
   "source": [
    "C2.display()"
   ]
  },
  {
   "cell_type": "code",
   "execution_count": null,
   "id": "b03a4527",
   "metadata": {},
   "outputs": [],
   "source": [
    "#display radius and area"
   ]
  },
  {
   "cell_type": "code",
   "execution_count": 76,
   "id": "f6423811",
   "metadata": {},
   "outputs": [],
   "source": [
    "class circle:\n",
    "    def __init__(self, radius):\n",
    "        self.radius = radius\n",
    "        \n",
    "    def display_r(self):\n",
    "        print(\"The radius of the circle is {}\".format(self.radius))\n",
    "        \n",
    "    def calculate_area(self):\n",
    "        return 22/7 * (self.radius ** 2)"
   ]
  },
  {
   "cell_type": "code",
   "execution_count": 77,
   "id": "b7415c83",
   "metadata": {},
   "outputs": [],
   "source": [
    "C1 = circle(7)"
   ]
  },
  {
   "cell_type": "code",
   "execution_count": 78,
   "id": "3219708b",
   "metadata": {},
   "outputs": [],
   "source": [
    "area = C1.calculate_area()"
   ]
  },
  {
   "cell_type": "code",
   "execution_count": 79,
   "id": "92461876",
   "metadata": {},
   "outputs": [
    {
     "data": {
      "text/plain": [
       "154.0"
      ]
     },
     "execution_count": 79,
     "metadata": {},
     "output_type": "execute_result"
    }
   ],
   "source": [
    "area"
   ]
  },
  {
   "cell_type": "code",
   "execution_count": 80,
   "id": "46a4e7f9",
   "metadata": {},
   "outputs": [
    {
     "name": "stdout",
     "output_type": "stream",
     "text": [
      "The radius of the circle is 7\n"
     ]
    }
   ],
   "source": [
    "C1.display_r()"
   ]
  },
  {
   "cell_type": "code",
   "execution_count": null,
   "id": "78eb2a49",
   "metadata": {},
   "outputs": [],
   "source": []
  }
 ],
 "metadata": {
  "kernelspec": {
   "display_name": "Python 3 (ipykernel)",
   "language": "python",
   "name": "python3"
  },
  "language_info": {
   "codemirror_mode": {
    "name": "ipython",
    "version": 3
   },
   "file_extension": ".py",
   "mimetype": "text/x-python",
   "name": "python",
   "nbconvert_exporter": "python",
   "pygments_lexer": "ipython3",
   "version": "3.9.7"
  }
 },
 "nbformat": 4,
 "nbformat_minor": 5
}
