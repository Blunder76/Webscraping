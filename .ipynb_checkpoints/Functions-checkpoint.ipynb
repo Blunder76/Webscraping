{
 "cells": [
  {
   "cell_type": "markdown",
   "id": "88f9f37c",
   "metadata": {},
   "source": [
    "This three \"\"\" is used to write multi line comments is also known as Docstring- it explains what the particular function does"
   ]
  },
  {
   "cell_type": "markdown",
   "id": "34b6f5be",
   "metadata": {},
   "source": [
    "code inside function is called block of function or function body or function definition"
   ]
  },
  {
   "cell_type": "code",
   "execution_count": 2,
   "id": "c804463a",
   "metadata": {},
   "outputs": [],
   "source": [
    "def multiply(a,b,c):\n",
    "    \"\"\"\n",
    "        inputs:\n",
    "            a: int\n",
    "            b: int\n",
    "            c: int\n",
    "        returns\n",
    "        a + b + c\n",
    "        multiplication of a, b and c\n",
    "    \"\"\"\n",
    "    return a * b * c"
   ]
  },
  {
   "cell_type": "code",
   "execution_count": 3,
   "id": "9c26a03f",
   "metadata": {},
   "outputs": [
    {
     "data": {
      "text/plain": [
       "210"
      ]
     },
     "execution_count": 3,
     "metadata": {},
     "output_type": "execute_result"
    }
   ],
   "source": [
    "multiply(5,6,7)"
   ]
  },
  {
   "cell_type": "markdown",
   "id": "eb697f6c",
   "metadata": {},
   "source": [
    "# Default argument in python functions"
   ]
  },
  {
   "cell_type": "code",
   "execution_count": 7,
   "id": "5172bf96",
   "metadata": {},
   "outputs": [],
   "source": [
    "def greet(name, greeting):\n",
    "    print(\"{} {}!\".format(greeting, name))"
   ]
  },
  {
   "cell_type": "code",
   "execution_count": 8,
   "id": "4253b0d6",
   "metadata": {},
   "outputs": [
    {
     "name": "stdout",
     "output_type": "stream",
     "text": [
      "Hello Kusum!\n"
     ]
    }
   ],
   "source": [
    "greet(\"Kusum\",\"Hello\")"
   ]
  },
  {
   "cell_type": "code",
   "execution_count": 12,
   "id": "f5ea371c",
   "metadata": {},
   "outputs": [],
   "source": [
    "def greet(name, greeting = \"Good Morning!\"):\n",
    "    \"\"\"This prog \"\"\"\n",
    "    print(\"{} {}\".format(greeting, name))"
   ]
  },
  {
   "cell_type": "code",
   "execution_count": 13,
   "id": "e8008330",
   "metadata": {},
   "outputs": [
    {
     "name": "stdout",
     "output_type": "stream",
     "text": [
      "Good Morning! Helen\n"
     ]
    }
   ],
   "source": [
    "greet(\"Helen\")"
   ]
  },
  {
   "cell_type": "markdown",
   "id": "80684802",
   "metadata": {},
   "source": [
    "default arguments can be overridden if the values are given"
   ]
  },
  {
   "cell_type": "code",
   "execution_count": null,
   "id": "9593df13",
   "metadata": {},
   "outputs": [],
   "source": [
    "a b c =40"
   ]
  },
  {
   "cell_type": "code",
   "execution_count": 17,
   "id": "d62fbef7",
   "metadata": {},
   "outputs": [],
   "source": [
    "def sums(a,b,c=40):\n",
    "    return a + b + c"
   ]
  },
  {
   "cell_type": "code",
   "execution_count": 19,
   "id": "0f0b014b",
   "metadata": {},
   "outputs": [
    {
     "data": {
      "text/plain": [
       "51"
      ]
     },
     "execution_count": 19,
     "metadata": {},
     "output_type": "execute_result"
    }
   ],
   "source": [
    "sums(5,6)"
   ]
  },
  {
   "cell_type": "code",
   "execution_count": 20,
   "id": "806f6938",
   "metadata": {},
   "outputs": [
    {
     "data": {
      "text/plain": [
       "68"
      ]
     },
     "execution_count": 20,
     "metadata": {},
     "output_type": "execute_result"
    }
   ],
   "source": [
    "sums(8,10,50)"
   ]
  },
  {
   "cell_type": "code",
   "execution_count": 31,
   "id": "cd965970",
   "metadata": {},
   "outputs": [],
   "source": [
    "def sums(a,b,c=40):\n",
    "    return a + b + c"
   ]
  },
  {
   "cell_type": "code",
   "execution_count": 32,
   "id": "2403c5be",
   "metadata": {},
   "outputs": [],
   "source": [
    "add = sums (8,10)"
   ]
  },
  {
   "cell_type": "code",
   "execution_count": 33,
   "id": "c2852774",
   "metadata": {},
   "outputs": [
    {
     "data": {
      "text/plain": [
       "58"
      ]
     },
     "execution_count": 33,
     "metadata": {},
     "output_type": "execute_result"
    }
   ],
   "source": [
    "add"
   ]
  },
  {
   "cell_type": "code",
   "execution_count": 34,
   "id": "85e4d683",
   "metadata": {},
   "outputs": [],
   "source": [
    "total =  add + 50"
   ]
  },
  {
   "cell_type": "code",
   "execution_count": 35,
   "id": "a6409dfc",
   "metadata": {},
   "outputs": [
    {
     "data": {
      "text/plain": [
       "108"
      ]
     },
     "execution_count": 35,
     "metadata": {},
     "output_type": "execute_result"
    }
   ],
   "source": [
    "total"
   ]
  },
  {
   "cell_type": "code",
   "execution_count": 36,
   "id": "59a1bb58",
   "metadata": {},
   "outputs": [
    {
     "ename": "SyntaxError",
     "evalue": "non-default argument follows default argument (1944638062.py, line 1)",
     "output_type": "error",
     "traceback": [
      "\u001b[1;36m  File \u001b[1;32m\"C:\\Users\\admin\\AppData\\Local\\Temp\\ipykernel_12644\\1944638062.py\"\u001b[1;36m, line \u001b[1;32m1\u001b[0m\n\u001b[1;33m    def greet(greeting = \"Hello!\", name):\u001b[0m\n\u001b[1;37m                                       ^\u001b[0m\n\u001b[1;31mSyntaxError\u001b[0m\u001b[1;31m:\u001b[0m non-default argument follows default argument\n"
     ]
    }
   ],
   "source": [
    "def greet(greeting = \"Hello!\", name):\n",
    "    print(\"{} {}!\".format(greeting, name))"
   ]
  },
  {
   "cell_type": "markdown",
   "id": "30ca3d06",
   "metadata": {},
   "source": [
    "this is bc the updatable values should be behind the non updatable values"
   ]
  },
  {
   "cell_type": "markdown",
   "id": "62ade8b9",
   "metadata": {},
   "source": [
    "default argument can be multiple but it has to follow the non default argument"
   ]
  },
  {
   "cell_type": "code",
   "execution_count": 38,
   "id": "c5aaa8a4",
   "metadata": {},
   "outputs": [],
   "source": [
    "#function to return if the value is even or odd "
   ]
  },
  {
   "cell_type": "code",
   "execution_count": 40,
   "id": "e8deb5db",
   "metadata": {},
   "outputs": [],
   "source": [
    "def check_even(num):\n",
    "    if num % 2 == 0:\n",
    "        return True\n",
    "    \n",
    "    else:\n",
    "        return False"
   ]
  },
  {
   "cell_type": "code",
   "execution_count": 41,
   "id": "85477ddd",
   "metadata": {},
   "outputs": [
    {
     "data": {
      "text/plain": [
       "True"
      ]
     },
     "execution_count": 41,
     "metadata": {},
     "output_type": "execute_result"
    }
   ],
   "source": [
    "check_even(2)"
   ]
  },
  {
   "cell_type": "code",
   "execution_count": 42,
   "id": "f18c320e",
   "metadata": {},
   "outputs": [
    {
     "data": {
      "text/plain": [
       "False"
      ]
     },
     "execution_count": 42,
     "metadata": {},
     "output_type": "execute_result"
    }
   ],
   "source": [
    "check_even(1)"
   ]
  },
  {
   "cell_type": "code",
   "execution_count": null,
   "id": "280e3a63",
   "metadata": {},
   "outputs": [],
   "source": [
    "#check if the number is positive or negative -1"
   ]
  },
  {
   "cell_type": "code",
   "execution_count": 50,
   "id": "c65abcdb",
   "metadata": {},
   "outputs": [],
   "source": [
    "def check_pos(num):\n",
    "    if num >= 0:\n",
    "        return \"Positive\"\n",
    "    \n",
    "    else:\n",
    "        return \"Negative\""
   ]
  },
  {
   "cell_type": "code",
   "execution_count": 44,
   "id": "efe10420",
   "metadata": {},
   "outputs": [
    {
     "data": {
      "text/plain": [
       "'Positive'"
      ]
     },
     "execution_count": 44,
     "metadata": {},
     "output_type": "execute_result"
    }
   ],
   "source": [
    "check_pos(1)"
   ]
  },
  {
   "cell_type": "code",
   "execution_count": 45,
   "id": "aabcc479",
   "metadata": {},
   "outputs": [
    {
     "data": {
      "text/plain": [
       "'Negative'"
      ]
     },
     "execution_count": 45,
     "metadata": {},
     "output_type": "execute_result"
    }
   ],
   "source": [
    "check_pos(-5)"
   ]
  },
  {
   "cell_type": "code",
   "execution_count": 51,
   "id": "3146bd3a",
   "metadata": {},
   "outputs": [
    {
     "data": {
      "text/plain": [
       "'Positive'"
      ]
     },
     "execution_count": 51,
     "metadata": {},
     "output_type": "execute_result"
    }
   ],
   "source": [
    "check_pos(0)"
   ]
  },
  {
   "cell_type": "code",
   "execution_count": null,
   "id": "84554408",
   "metadata": {},
   "outputs": [],
   "source": [
    "#check if the number is positive or negative -2"
   ]
  },
  {
   "cell_type": "code",
   "execution_count": 46,
   "id": "7e0563ac",
   "metadata": {},
   "outputs": [],
   "source": [
    "def check_pos(num):\n",
    "    if num >= 0:\n",
    "        return True\n",
    "    \n",
    "    else:\n",
    "        return False"
   ]
  },
  {
   "cell_type": "code",
   "execution_count": 47,
   "id": "351b55fc",
   "metadata": {},
   "outputs": [
    {
     "data": {
      "text/plain": [
       "False"
      ]
     },
     "execution_count": 47,
     "metadata": {},
     "output_type": "execute_result"
    }
   ],
   "source": [
    "check_pos(-5)"
   ]
  },
  {
   "cell_type": "code",
   "execution_count": 48,
   "id": "ec41eccf",
   "metadata": {},
   "outputs": [
    {
     "data": {
      "text/plain": [
       "True"
      ]
     },
     "execution_count": 48,
     "metadata": {},
     "output_type": "execute_result"
    }
   ],
   "source": [
    "check_pos(0)"
   ]
  },
  {
   "cell_type": "markdown",
   "id": "44a03abb",
   "metadata": {},
   "source": [
    "# Global and local variable in functions"
   ]
  },
  {
   "cell_type": "code",
   "execution_count": 59,
   "id": "489b7663",
   "metadata": {},
   "outputs": [],
   "source": [
    "x = \"Awesome\"\n",
    "\n",
    "def display():\n",
    "    ss = \"Wonderful\"\n",
    "    print(x)\n",
    "        #return x"
   ]
  },
  {
   "cell_type": "code",
   "execution_count": 54,
   "id": "edf09825",
   "metadata": {},
   "outputs": [
    {
     "name": "stdout",
     "output_type": "stream",
     "text": [
      "Awesome\n"
     ]
    }
   ],
   "source": [
    "print(x)"
   ]
  },
  {
   "cell_type": "code",
   "execution_count": 56,
   "id": "d49d166a",
   "metadata": {},
   "outputs": [
    {
     "name": "stdout",
     "output_type": "stream",
     "text": [
      "Awesome\n"
     ]
    }
   ],
   "source": [
    "display()"
   ]
  },
  {
   "cell_type": "code",
   "execution_count": 57,
   "id": "2ae5741b",
   "metadata": {},
   "outputs": [
    {
     "data": {
      "text/plain": [
       "'Awesome'"
      ]
     },
     "execution_count": 57,
     "metadata": {},
     "output_type": "execute_result"
    }
   ],
   "source": [
    "x"
   ]
  },
  {
   "cell_type": "markdown",
   "id": "336c123a",
   "metadata": {},
   "source": [
    "if a variable inside a function need to be accessed from outside then we need to change the variable to global variable from local variable\n",
    "\n",
    "variable inside function = local variable\n",
    "variable outside function = global variable"
   ]
  },
  {
   "cell_type": "markdown",
   "id": "1c5877cd",
   "metadata": {},
   "source": [
    "global keyword should be used to change the variable inside a fuction as a global variable"
   ]
  },
  {
   "cell_type": "code",
   "execution_count": null,
   "id": "1c0bf9e3",
   "metadata": {},
   "outputs": [],
   "source": []
  }
 ],
 "metadata": {
  "kernelspec": {
   "display_name": "Python 3 (ipykernel)",
   "language": "python",
   "name": "python3"
  },
  "language_info": {
   "codemirror_mode": {
    "name": "ipython",
    "version": 3
   },
   "file_extension": ".py",
   "mimetype": "text/x-python",
   "name": "python",
   "nbconvert_exporter": "python",
   "pygments_lexer": "ipython3",
   "version": "3.9.7"
  }
 },
 "nbformat": 4,
 "nbformat_minor": 5
}
