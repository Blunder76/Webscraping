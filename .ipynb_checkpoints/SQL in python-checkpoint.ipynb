{
 "cells": [
  {
   "cell_type": "code",
   "execution_count": 1,
   "id": "b1fca2a4",
   "metadata": {},
   "outputs": [],
   "source": [
    "import sqlite3"
   ]
  },
  {
   "cell_type": "markdown",
   "id": "72239b58",
   "metadata": {},
   "source": [
    "# CREATE"
   ]
  },
  {
   "cell_type": "code",
   "execution_count": 2,
   "id": "d3a3ff74",
   "metadata": {},
   "outputs": [],
   "source": [
    "con = sqlite3.connect(\"class2.db\")"
   ]
  },
  {
   "cell_type": "code",
   "execution_count": 4,
   "id": "2b2a7607",
   "metadata": {},
   "outputs": [],
   "source": [
    "cur = con.cursor()"
   ]
  },
  {
   "cell_type": "code",
   "execution_count": 5,
   "id": "ba8e0d47",
   "metadata": {},
   "outputs": [],
   "source": [
    "create_query = \"\"\"\n",
    "create table student(roll_no, name)\"\"\""
   ]
  },
  {
   "cell_type": "code",
   "execution_count": 6,
   "id": "c0ea2f54",
   "metadata": {},
   "outputs": [
    {
     "data": {
      "text/plain": [
       "<sqlite3.Cursor at 0x24a2b6693b0>"
      ]
     },
     "execution_count": 6,
     "metadata": {},
     "output_type": "execute_result"
    }
   ],
   "source": [
    "cur.execute(create_query)"
   ]
  },
  {
   "cell_type": "code",
   "execution_count": 7,
   "id": "98e83a9f",
   "metadata": {},
   "outputs": [],
   "source": [
    "con.commit()"
   ]
  },
  {
   "cell_type": "markdown",
   "id": "7dae896a",
   "metadata": {},
   "source": [
    "# INSERT"
   ]
  },
  {
   "cell_type": "code",
   "execution_count": 8,
   "id": "6ebbeb64",
   "metadata": {},
   "outputs": [],
   "source": [
    "insert_query = \"\"\"\n",
    "insert into student(roll_no,name)\n",
    "values\n",
    "(1,\"Kusum\"),\n",
    "(2,\"Basnet\")\n",
    "\"\"\""
   ]
  },
  {
   "cell_type": "code",
   "execution_count": 9,
   "id": "af529028",
   "metadata": {},
   "outputs": [
    {
     "data": {
      "text/plain": [
       "<sqlite3.Cursor at 0x24a2b6693b0>"
      ]
     },
     "execution_count": 9,
     "metadata": {},
     "output_type": "execute_result"
    }
   ],
   "source": [
    "cur.execute(insert_query)"
   ]
  },
  {
   "cell_type": "markdown",
   "id": "4bad3ee5",
   "metadata": {},
   "source": [
    "# SELECT"
   ]
  },
  {
   "cell_type": "code",
   "execution_count": 10,
   "id": "dc2ea4cf",
   "metadata": {},
   "outputs": [
    {
     "data": {
      "text/plain": [
       "[(1, 'Kusum'), (2, 'Basnet')]"
      ]
     },
     "execution_count": 10,
     "metadata": {},
     "output_type": "execute_result"
    }
   ],
   "source": [
    "cur.execute(\"Select * from student\").fetchall()"
   ]
  },
  {
   "cell_type": "code",
   "execution_count": null,
   "id": "7882f550",
   "metadata": {},
   "outputs": [],
   "source": [
    "cur.execute(\"Select name from student\").fetchall()"
   ]
  },
  {
   "cell_type": "code",
   "execution_count": 12,
   "id": "6437c958",
   "metadata": {},
   "outputs": [
    {
     "data": {
      "text/plain": [
       "[('Kusum',)]"
      ]
     },
     "execution_count": 12,
     "metadata": {},
     "output_type": "execute_result"
    }
   ],
   "source": [
    "cur.execute(\"Select name from student where name = 'Kusum'\").fetchall()"
   ]
  },
  {
   "cell_type": "markdown",
   "id": "53ddb56f",
   "metadata": {},
   "source": [
    "# UPDATE"
   ]
  },
  {
   "cell_type": "code",
   "execution_count": 13,
   "id": "5cafb82e",
   "metadata": {},
   "outputs": [],
   "source": [
    "up =\"\"\"\n",
    "update student\n",
    "set name = 'Kusum Basnet'\n",
    "where roll_no = 1\n",
    "\"\"\""
   ]
  },
  {
   "cell_type": "code",
   "execution_count": 14,
   "id": "2d84a05e",
   "metadata": {},
   "outputs": [
    {
     "data": {
      "text/plain": [
       "<sqlite3.Cursor at 0x24a2b6693b0>"
      ]
     },
     "execution_count": 14,
     "metadata": {},
     "output_type": "execute_result"
    }
   ],
   "source": [
    "cur.execute(up)"
   ]
  },
  {
   "cell_type": "code",
   "execution_count": 15,
   "id": "dde878d9",
   "metadata": {},
   "outputs": [
    {
     "data": {
      "text/plain": [
       "[(1, 'Kusum Basnet'), (2, 'Basnet')]"
      ]
     },
     "execution_count": 15,
     "metadata": {},
     "output_type": "execute_result"
    }
   ],
   "source": [
    "cur.execute(\"Select * from student\").fetchall()"
   ]
  },
  {
   "cell_type": "markdown",
   "id": "66484bdd",
   "metadata": {},
   "source": [
    "# EXECUTE MANY"
   ]
  },
  {
   "cell_type": "code",
   "execution_count": 16,
   "id": "7ca16f44",
   "metadata": {},
   "outputs": [],
   "source": [
    "data = [\n",
    "    (3, 'Krismeen Lama'),\n",
    "    (4, 'Sanjibani Subedi'),\n",
    "    (5, 'Alisha Baruwal')\n",
    "]"
   ]
  },
  {
   "cell_type": "code",
   "execution_count": 18,
   "id": "598eb8bf",
   "metadata": {},
   "outputs": [
    {
     "data": {
      "text/plain": [
       "<sqlite3.Cursor at 0x24a2b6693b0>"
      ]
     },
     "execution_count": 18,
     "metadata": {},
     "output_type": "execute_result"
    }
   ],
   "source": [
    "cur.executemany(\"Insert into student(roll_no, name) values (?,?)\",data)"
   ]
  },
  {
   "cell_type": "code",
   "execution_count": 19,
   "id": "bca7457c",
   "metadata": {},
   "outputs": [
    {
     "data": {
      "text/plain": [
       "[(1, 'Kusum Basnet'),\n",
       " (2, 'Basnet'),\n",
       " (3, 'Krismeen Lama'),\n",
       " (4, 'Sanjibani Subedi'),\n",
       " (5, 'Alisha Baruwal')]"
      ]
     },
     "execution_count": 19,
     "metadata": {},
     "output_type": "execute_result"
    }
   ],
   "source": [
    "cur.execute(\"Select * from student\").fetchall()"
   ]
  },
  {
   "cell_type": "markdown",
   "id": "592fe9a8",
   "metadata": {},
   "source": [
    "# DELETE\n",
    "Dont do it unless absolutely necessary"
   ]
  },
  {
   "cell_type": "code",
   "execution_count": 20,
   "id": "0e93e98e",
   "metadata": {},
   "outputs": [
    {
     "data": {
      "text/plain": [
       "<sqlite3.Cursor at 0x24a2b6693b0>"
      ]
     },
     "execution_count": 20,
     "metadata": {},
     "output_type": "execute_result"
    }
   ],
   "source": [
    "cur.execute(\"Delete from student where roll_no = 2\")"
   ]
  },
  {
   "cell_type": "code",
   "execution_count": 21,
   "id": "536ba5e3",
   "metadata": {},
   "outputs": [
    {
     "data": {
      "text/plain": [
       "[(1, 'Kusum Basnet'),\n",
       " (3, 'Krismeen Lama'),\n",
       " (4, 'Sanjibani Subedi'),\n",
       " (5, 'Alisha Baruwal')]"
      ]
     },
     "execution_count": 21,
     "metadata": {},
     "output_type": "execute_result"
    }
   ],
   "source": [
    "cur.execute(\"Select * from student\").fetchall()"
   ]
  },
  {
   "cell_type": "code",
   "execution_count": null,
   "id": "24891786",
   "metadata": {},
   "outputs": [],
   "source": []
  }
 ],
 "metadata": {
  "kernelspec": {
   "display_name": "Python 3 (ipykernel)",
   "language": "python",
   "name": "python3"
  },
  "language_info": {
   "codemirror_mode": {
    "name": "ipython",
    "version": 3
   },
   "file_extension": ".py",
   "mimetype": "text/x-python",
   "name": "python",
   "nbconvert_exporter": "python",
   "pygments_lexer": "ipython3",
   "version": "3.9.7"
  }
 },
 "nbformat": 4,
 "nbformat_minor": 5
}
