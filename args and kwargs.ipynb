{
 "cells": [
  {
   "cell_type": "markdown",
   "id": "8a96d960",
   "metadata": {},
   "source": [
    "# args and kwargs (special keywords of python)"
   ]
  },
  {
   "cell_type": "markdown",
   "id": "c88336f2",
   "metadata": {},
   "source": [
    "is used to take multiple and dynamic input for the program of variable length\n",
    "-- the star before args is used when the number of input is not known\n",
    "\n",
    ">> *args - one star, tuple can be performed\n",
    ">> **kwargs - two stars, dictionary operation can be performed"
   ]
  },
  {
   "cell_type": "code",
   "execution_count": 6,
   "id": "ac8c55d4",
   "metadata": {},
   "outputs": [],
   "source": [
    "def add(*args):  #args can be replaced with other keywords but better to use args\n",
    "    print(args)  #if something else is used instead of (*args) then here the same keyword should be used\n",
    "    print(type(args))"
   ]
  },
  {
   "cell_type": "code",
   "execution_count": 7,
   "id": "d272aa0c",
   "metadata": {},
   "outputs": [
    {
     "name": "stdout",
     "output_type": "stream",
     "text": [
      "(1,)\n",
      "<class 'tuple'>\n"
     ]
    }
   ],
   "source": [
    "add(1)"
   ]
  },
  {
   "cell_type": "code",
   "execution_count": 8,
   "id": "92d71e0e",
   "metadata": {},
   "outputs": [
    {
     "name": "stdout",
     "output_type": "stream",
     "text": [
      "(1, 2, 3)\n",
      "<class 'tuple'>\n"
     ]
    }
   ],
   "source": [
    "add(1,2,3)"
   ]
  },
  {
   "cell_type": "code",
   "execution_count": 4,
   "id": "5129f77e",
   "metadata": {},
   "outputs": [],
   "source": [
    "def add(*args):\n",
    "    total = 0\n",
    "    for item in args:\n",
    "        total = total + item\n",
    "    return total"
   ]
  },
  {
   "cell_type": "code",
   "execution_count": 5,
   "id": "2d49023f",
   "metadata": {},
   "outputs": [
    {
     "data": {
      "text/plain": [
       "71"
      ]
     },
     "execution_count": 5,
     "metadata": {},
     "output_type": "execute_result"
    }
   ],
   "source": [
    "add(8,10,33,9,5,6)"
   ]
  },
  {
   "cell_type": "code",
   "execution_count": null,
   "id": "1e918162",
   "metadata": {},
   "outputs": [],
   "source": []
  },
  {
   "cell_type": "code",
   "execution_count": 15,
   "id": "d1bc8aa0",
   "metadata": {},
   "outputs": [],
   "source": [
    "def details(**kwargs):\n",
    "    name = kwargs.get('firstname')\n",
    "    print(name)\n",
    "    print(kwargs)\n",
    "    print(type(kwargs))"
   ]
  },
  {
   "cell_type": "code",
   "execution_count": 17,
   "id": "79b8bd89",
   "metadata": {},
   "outputs": [
    {
     "ename": "TypeError",
     "evalue": "details() takes 0 positional arguments but 3 were given",
     "output_type": "error",
     "traceback": [
      "\u001b[1;31m---------------------------------------------------------------------------\u001b[0m",
      "\u001b[1;31mTypeError\u001b[0m                                 Traceback (most recent call last)",
      "\u001b[1;32m~\\AppData\\Local\\Temp\\ipykernel_1088\\3880117041.py\u001b[0m in \u001b[0;36m<module>\u001b[1;34m\u001b[0m\n\u001b[1;32m----> 1\u001b[1;33m \u001b[0mdetails\u001b[0m\u001b[1;33m(\u001b[0m\u001b[1;36m1\u001b[0m\u001b[1;33m,\u001b[0m\u001b[1;36m2\u001b[0m\u001b[1;33m,\u001b[0m\u001b[1;36m3\u001b[0m\u001b[1;33m)\u001b[0m  \u001b[1;31m#bc kwargs take multiple inputs using assignment operator\u001b[0m\u001b[1;33m\u001b[0m\u001b[1;33m\u001b[0m\u001b[0m\n\u001b[0m",
      "\u001b[1;31mTypeError\u001b[0m: details() takes 0 positional arguments but 3 were given"
     ]
    }
   ],
   "source": [
    "details(1,2,3)  #bc kwargs take multiple inputs using assignment operator"
   ]
  },
  {
   "cell_type": "code",
   "execution_count": 16,
   "id": "dde4e75e",
   "metadata": {},
   "outputs": [
    {
     "name": "stdout",
     "output_type": "stream",
     "text": [
      "Kusum\n",
      "{'firstname': 'Kusum', 'age': 22, 'learns': ['Python', 'AI']}\n",
      "<class 'dict'>\n"
     ]
    }
   ],
   "source": [
    "details(firstname = 'Kusum', age = 22, learns = ['Python','AI']) #converts the type into dictionary"
   ]
  },
  {
   "cell_type": "code",
   "execution_count": 13,
   "id": "584964e1",
   "metadata": {},
   "outputs": [
    {
     "data": {
      "text/plain": [
       "<function __main__.details(**kwargs)>"
      ]
     },
     "execution_count": 13,
     "metadata": {},
     "output_type": "execute_result"
    }
   ],
   "source": [
    "details"
   ]
  },
  {
   "cell_type": "code",
   "execution_count": 18,
   "id": "df3f5806",
   "metadata": {},
   "outputs": [],
   "source": [
    "def add(a,b):\n",
    "    total = a + b\n",
    "    return a, b, total"
   ]
  },
  {
   "cell_type": "code",
   "execution_count": 19,
   "id": "b31288b4",
   "metadata": {},
   "outputs": [
    {
     "data": {
      "text/plain": [
       "(1, 6, 7)"
      ]
     },
     "execution_count": 19,
     "metadata": {},
     "output_type": "execute_result"
    }
   ],
   "source": [
    "add(1,6)"
   ]
  },
  {
   "cell_type": "code",
   "execution_count": 20,
   "id": "64f4ea13",
   "metadata": {},
   "outputs": [],
   "source": [
    "(a,b) = (2,3)"
   ]
  },
  {
   "cell_type": "code",
   "execution_count": 21,
   "id": "388dd257",
   "metadata": {},
   "outputs": [
    {
     "data": {
      "text/plain": [
       "2"
      ]
     },
     "execution_count": 21,
     "metadata": {},
     "output_type": "execute_result"
    }
   ],
   "source": [
    "a"
   ]
  },
  {
   "cell_type": "code",
   "execution_count": 22,
   "id": "bb85ffa1",
   "metadata": {},
   "outputs": [
    {
     "data": {
      "text/plain": [
       "3"
      ]
     },
     "execution_count": 22,
     "metadata": {},
     "output_type": "execute_result"
    }
   ],
   "source": [
    "b"
   ]
  },
  {
   "cell_type": "code",
   "execution_count": 24,
   "id": "0cdc3bc7",
   "metadata": {},
   "outputs": [],
   "source": [
    "a, b, total = add(1,6)"
   ]
  },
  {
   "cell_type": "code",
   "execution_count": 25,
   "id": "f7c0dc8b",
   "metadata": {},
   "outputs": [
    {
     "data": {
      "text/plain": [
       "1"
      ]
     },
     "execution_count": 25,
     "metadata": {},
     "output_type": "execute_result"
    }
   ],
   "source": [
    "a"
   ]
  },
  {
   "cell_type": "code",
   "execution_count": 26,
   "id": "a527d629",
   "metadata": {},
   "outputs": [
    {
     "data": {
      "text/plain": [
       "6"
      ]
     },
     "execution_count": 26,
     "metadata": {},
     "output_type": "execute_result"
    }
   ],
   "source": [
    "b"
   ]
  },
  {
   "cell_type": "markdown",
   "id": "3c3792b3",
   "metadata": {},
   "source": [
    "AS2-WAP with a python function that accepts a string and calculate the number of upper-case letters and lower-case letters"
   ]
  },
  {
   "cell_type": "code",
   "execution_count": null,
   "id": "f748adc7",
   "metadata": {},
   "outputs": [],
   "source": []
  }
 ],
 "metadata": {
  "kernelspec": {
   "display_name": "Python 3 (ipykernel)",
   "language": "python",
   "name": "python3"
  },
  "language_info": {
   "codemirror_mode": {
    "name": "ipython",
    "version": 3
   },
   "file_extension": ".py",
   "mimetype": "text/x-python",
   "name": "python",
   "nbconvert_exporter": "python",
   "pygments_lexer": "ipython3",
   "version": "3.9.7"
  }
 },
 "nbformat": 4,
 "nbformat_minor": 5
}
