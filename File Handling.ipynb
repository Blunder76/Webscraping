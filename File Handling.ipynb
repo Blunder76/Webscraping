{
 "cells": [
  {
   "cell_type": "code",
   "execution_count": 13,
   "id": "d3c79ce6",
   "metadata": {},
   "outputs": [
    {
     "name": "stderr",
     "output_type": "stream",
     "text": [
      "'cat' is not recognized as an internal or external command,\n",
      "operable program or batch file.\n"
     ]
    }
   ],
   "source": [
    "!cat newfile.txt"
   ]
  },
  {
   "cell_type": "code",
   "execution_count": 32,
   "id": "1c3594af",
   "metadata": {},
   "outputs": [],
   "source": [
    "FILENAME = \"h.txt\""
   ]
  },
  {
   "cell_type": "code",
   "execution_count": 33,
   "id": "4850c709",
   "metadata": {},
   "outputs": [
    {
     "name": "stdout",
     "output_type": "stream",
     "text": [
      " Volume in drive C has no label.\n",
      " Volume Serial Number is A8AB-5E52\n",
      "\n",
      " Directory of C:\\Users\\admin\\Desktop\\broadways\n",
      "\n",
      "08/25/2022  09:19 AM    <DIR>          .\n",
      "08/25/2022  09:19 AM    <DIR>          ..\n",
      "08/25/2022  09:05 AM    <DIR>          .ipynb_checkpoints\n",
      "08/23/2022  08:48 AM             7,428 args and kwargs.ipynb\n",
      "08/24/2022  09:36 AM            11,739 class and object.ipynb\n",
      "08/25/2022  09:17 AM             3,110 File Handling.ipynb\n",
      "08/22/2022  09:28 AM            12,010 Functions.ipynb\n",
      "08/25/2022  09:19 AM                79 h.txt\n",
      "08/25/2022  09:05 AM             9,472 Inheritance and other classes.ipynb\n",
      "08/17/2022  08:48 AM             3,388 Membership operator.ipynb\n",
      "08/17/2022  09:35 AM            15,848 Python list method.ipynb\n",
      "08/23/2022  09:20 AM             6,581 Recursive function.ipynb\n",
      "08/20/2022  08:44 PM             2,594 Untitled.ipynb\n",
      "08/23/2022  09:30 PM             1,635 Untitled1.ipynb\n",
      "              11 File(s)         73,884 bytes\n",
      "               3 Dir(s)  26,314,305,536 bytes free\n"
     ]
    }
   ],
   "source": [
    "!dir"
   ]
  },
  {
   "cell_type": "code",
   "execution_count": 37,
   "id": "dc80ca32",
   "metadata": {},
   "outputs": [],
   "source": [
    "file = open(FILENAME)"
   ]
  },
  {
   "cell_type": "code",
   "execution_count": 43,
   "id": "47f0ce9a",
   "metadata": {},
   "outputs": [],
   "source": [
    "with open (\"h.txt\", 'r') as f:\n",
    "    file = f.readlines()   #reads the file line by line"
   ]
  },
  {
   "cell_type": "code",
   "execution_count": 44,
   "id": "fc023b9e",
   "metadata": {},
   "outputs": [
    {
     "data": {
      "text/plain": [
       "['hello this is a file\\n',\n",
       " 'this is second line\\n',\n",
       " 'this is third line\\n',\n",
       " 'this is 4\\n',\n",
       " 'this is 5']"
      ]
     },
     "execution_count": 44,
     "metadata": {},
     "output_type": "execute_result"
    }
   ],
   "source": [
    "file"
   ]
  },
  {
   "cell_type": "code",
   "execution_count": 35,
   "id": "b0be766f",
   "metadata": {},
   "outputs": [
    {
     "data": {
      "text/plain": [
       "'hello this is a file\\nthis is second line\\nthis is third line\\nthis is 4\\nthis is 5'"
      ]
     },
     "execution_count": 35,
     "metadata": {},
     "output_type": "execute_result"
    }
   ],
   "source": [
    "file.read()"
   ]
  },
  {
   "cell_type": "code",
   "execution_count": 36,
   "id": "60f5e515",
   "metadata": {},
   "outputs": [
    {
     "data": {
      "text/plain": [
       "[]"
      ]
     },
     "execution_count": 36,
     "metadata": {},
     "output_type": "execute_result"
    }
   ],
   "source": [
    "file.readlines()"
   ]
  }
 ],
 "metadata": {
  "kernelspec": {
   "display_name": "Python 3 (ipykernel)",
   "language": "python",
   "name": "python3"
  },
  "language_info": {
   "codemirror_mode": {
    "name": "ipython",
    "version": 3
   },
   "file_extension": ".py",
   "mimetype": "text/x-python",
   "name": "python",
   "nbconvert_exporter": "python",
   "pygments_lexer": "ipython3",
   "version": "3.9.7"
  }
 },
 "nbformat": 4,
 "nbformat_minor": 5
}
