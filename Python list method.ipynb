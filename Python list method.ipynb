{
 "cells": [
  {
   "cell_type": "markdown",
   "id": "3cb0c9ce",
   "metadata": {},
   "source": [
    "# insert()"
   ]
  },
  {
   "cell_type": "code",
   "execution_count": 8,
   "id": "1c0b3996",
   "metadata": {},
   "outputs": [],
   "source": [
    "numbers = [44, 22, 11, 566]"
   ]
  },
  {
   "cell_type": "code",
   "execution_count": 2,
   "id": "d8332f73",
   "metadata": {},
   "outputs": [],
   "source": [
    "numbers.insert(1, \"class2\")"
   ]
  },
  {
   "cell_type": "code",
   "execution_count": 3,
   "id": "a21e39b5",
   "metadata": {},
   "outputs": [
    {
     "data": {
      "text/plain": [
       "[44, 'class2', 22, 11, 566]"
      ]
     },
     "execution_count": 3,
     "metadata": {},
     "output_type": "execute_result"
    }
   ],
   "source": [
    "numbers"
   ]
  },
  {
   "cell_type": "markdown",
   "id": "2c4c38b1",
   "metadata": {},
   "source": [
    "since python lists are mutable, class2 can be inserted in the list without assigning it"
   ]
  },
  {
   "cell_type": "code",
   "execution_count": 4,
   "id": "8bc611c0",
   "metadata": {},
   "outputs": [
    {
     "ename": "IndexError",
     "evalue": "list index out of range",
     "output_type": "error",
     "traceback": [
      "\u001b[1;31m---------------------------------------------------------------------------\u001b[0m",
      "\u001b[1;31mIndexError\u001b[0m                                Traceback (most recent call last)",
      "\u001b[1;32m~\\AppData\\Local\\Temp\\ipykernel_2892\\3124174719.py\u001b[0m in \u001b[0;36m<module>\u001b[1;34m\u001b[0m\n\u001b[1;32m----> 1\u001b[1;33m \u001b[0mnumbers\u001b[0m\u001b[1;33m[\u001b[0m\u001b[1;36m7\u001b[0m\u001b[1;33m]\u001b[0m\u001b[1;33m\u001b[0m\u001b[1;33m\u001b[0m\u001b[0m\n\u001b[0m",
      "\u001b[1;31mIndexError\u001b[0m: list index out of range"
     ]
    }
   ],
   "source": [
    "numbers[7]"
   ]
  },
  {
   "cell_type": "code",
   "execution_count": 5,
   "id": "f8127527",
   "metadata": {},
   "outputs": [],
   "source": [
    "numbers.insert(7, 'seventh index')"
   ]
  },
  {
   "cell_type": "code",
   "execution_count": 6,
   "id": "347e3fa4",
   "metadata": {},
   "outputs": [
    {
     "data": {
      "text/plain": [
       "[44, 'class2', 22, 11, 566, 'seventh index']"
      ]
     },
     "execution_count": 6,
     "metadata": {},
     "output_type": "execute_result"
    }
   ],
   "source": [
    "numbers"
   ]
  },
  {
   "cell_type": "code",
   "execution_count": 7,
   "id": "80f4d227",
   "metadata": {},
   "outputs": [
    {
     "data": {
      "text/plain": [
       "'seventh index'"
      ]
     },
     "execution_count": 7,
     "metadata": {},
     "output_type": "execute_result"
    }
   ],
   "source": [
    "numbers[5]"
   ]
  },
  {
   "cell_type": "markdown",
   "id": "ff05c756",
   "metadata": {},
   "source": [
    "# append()"
   ]
  },
  {
   "cell_type": "markdown",
   "id": "297bcc8d",
   "metadata": {},
   "source": [
    "is mostly used in python"
   ]
  },
  {
   "cell_type": "code",
   "execution_count": 9,
   "id": "24469354",
   "metadata": {},
   "outputs": [],
   "source": [
    "cars = ['Audi', 'BMW','Mercedes','Maruti']"
   ]
  },
  {
   "cell_type": "code",
   "execution_count": 10,
   "id": "7e4cf625",
   "metadata": {},
   "outputs": [
    {
     "data": {
      "text/plain": [
       "['Audi', 'BMW', 'Mercedes', 'Maruti']"
      ]
     },
     "execution_count": 10,
     "metadata": {},
     "output_type": "execute_result"
    }
   ],
   "source": [
    "cars"
   ]
  },
  {
   "cell_type": "code",
   "execution_count": 11,
   "id": "185f7ee2",
   "metadata": {},
   "outputs": [],
   "source": [
    "cars.append('Tesla')"
   ]
  },
  {
   "cell_type": "code",
   "execution_count": 12,
   "id": "c2b711bd",
   "metadata": {},
   "outputs": [
    {
     "data": {
      "text/plain": [
       "['Audi', 'BMW', 'Mercedes', 'Maruti', 'Tesla']"
      ]
     },
     "execution_count": 12,
     "metadata": {},
     "output_type": "execute_result"
    }
   ],
   "source": [
    "cars"
   ]
  },
  {
   "cell_type": "code",
   "execution_count": 14,
   "id": "0364d7c2",
   "metadata": {},
   "outputs": [],
   "source": [
    "prime_numbers = [1,2,3,5,7,11]"
   ]
  },
  {
   "cell_type": "code",
   "execution_count": 21,
   "id": "36518077",
   "metadata": {},
   "outputs": [],
   "source": [
    "num_squares = []\n",
    "#num_squares = list()\n",
    "for item in prime_numbers:\n",
    "    square = item **2\n",
    "    num_squares.append(square)"
   ]
  },
  {
   "cell_type": "code",
   "execution_count": 23,
   "id": "2e210c7d",
   "metadata": {},
   "outputs": [
    {
     "data": {
      "text/plain": [
       "[1, 4, 9, 25, 49, 121]"
      ]
     },
     "execution_count": 23,
     "metadata": {},
     "output_type": "execute_result"
    }
   ],
   "source": [
    "num_squares"
   ]
  },
  {
   "cell_type": "markdown",
   "id": "eee25bcf",
   "metadata": {},
   "source": [
    "# extend()"
   ]
  },
  {
   "cell_type": "code",
   "execution_count": 24,
   "id": "1dc383a4",
   "metadata": {},
   "outputs": [],
   "source": [
    "list1 = ['marker','board','flex']\n",
    "list2 = ['duster', 'pen', 'paper']"
   ]
  },
  {
   "cell_type": "code",
   "execution_count": 25,
   "id": "a35746ca",
   "metadata": {},
   "outputs": [
    {
     "data": {
      "text/plain": [
       "['marker', 'board', 'flex']"
      ]
     },
     "execution_count": 25,
     "metadata": {},
     "output_type": "execute_result"
    }
   ],
   "source": [
    "list1"
   ]
  },
  {
   "cell_type": "code",
   "execution_count": 26,
   "id": "88e88876",
   "metadata": {},
   "outputs": [
    {
     "data": {
      "text/plain": [
       "['duster', 'pen', 'paper']"
      ]
     },
     "execution_count": 26,
     "metadata": {},
     "output_type": "execute_result"
    }
   ],
   "source": [
    "list2"
   ]
  },
  {
   "cell_type": "code",
   "execution_count": 27,
   "id": "b3abeb97",
   "metadata": {},
   "outputs": [],
   "source": [
    "list1.extend(list2)"
   ]
  },
  {
   "cell_type": "code",
   "execution_count": 28,
   "id": "9ece49ca",
   "metadata": {},
   "outputs": [
    {
     "data": {
      "text/plain": [
       "['marker', 'board', 'flex', 'duster', 'pen', 'paper']"
      ]
     },
     "execution_count": 28,
     "metadata": {},
     "output_type": "execute_result"
    }
   ],
   "source": [
    "list1"
   ]
  },
  {
   "cell_type": "code",
   "execution_count": 29,
   "id": "73a97600",
   "metadata": {},
   "outputs": [
    {
     "data": {
      "text/plain": [
       "['duster', 'pen', 'paper']"
      ]
     },
     "execution_count": 29,
     "metadata": {},
     "output_type": "execute_result"
    }
   ],
   "source": [
    "list2"
   ]
  },
  {
   "cell_type": "markdown",
   "id": "d2740656",
   "metadata": {},
   "source": [
    "The same thing as extend can also be done this way"
   ]
  },
  {
   "cell_type": "code",
   "execution_count": 30,
   "id": "0972f545",
   "metadata": {},
   "outputs": [],
   "source": [
    "list1 = ['marker','board','flex']\n",
    "list2 = ['duster', 'pen', 'paper']\n",
    "list3 = list1 + list2"
   ]
  },
  {
   "cell_type": "code",
   "execution_count": 31,
   "id": "f0a96913",
   "metadata": {},
   "outputs": [
    {
     "data": {
      "text/plain": [
       "['marker', 'board', 'flex', 'duster', 'pen', 'paper']"
      ]
     },
     "execution_count": 31,
     "metadata": {},
     "output_type": "execute_result"
    }
   ],
   "source": [
    "list3"
   ]
  },
  {
   "cell_type": "markdown",
   "id": "a58d4254",
   "metadata": {},
   "source": [
    "# remove()"
   ]
  },
  {
   "cell_type": "code",
   "execution_count": 33,
   "id": "243d4aa9",
   "metadata": {},
   "outputs": [],
   "source": [
    "list1 = ['marker','board','flex']\n",
    "list2 = ['duster', 'pen', 'paper']\n",
    "list3 = list1 + list2"
   ]
  },
  {
   "cell_type": "code",
   "execution_count": 34,
   "id": "43b40870",
   "metadata": {},
   "outputs": [
    {
     "data": {
      "text/plain": [
       "['marker', 'board', 'flex', 'duster', 'pen', 'paper']"
      ]
     },
     "execution_count": 34,
     "metadata": {},
     "output_type": "execute_result"
    }
   ],
   "source": [
    "list3"
   ]
  },
  {
   "cell_type": "code",
   "execution_count": 35,
   "id": "37c73d02",
   "metadata": {},
   "outputs": [],
   "source": [
    "cars = ['Audi', 'BMW','Mercedes','Maruti']"
   ]
  },
  {
   "cell_type": "code",
   "execution_count": null,
   "id": "0681beec",
   "metadata": {},
   "outputs": [],
   "source": [
    "cars.extend"
   ]
  },
  {
   "cell_type": "code",
   "execution_count": 37,
   "id": "918a61c8",
   "metadata": {},
   "outputs": [],
   "source": [
    "cars.remove('Maruti')"
   ]
  },
  {
   "cell_type": "code",
   "execution_count": 38,
   "id": "898d5f6d",
   "metadata": {},
   "outputs": [
    {
     "data": {
      "text/plain": [
       "['Audi', 'BMW', 'Mercedes']"
      ]
     },
     "execution_count": 38,
     "metadata": {},
     "output_type": "execute_result"
    }
   ],
   "source": [
    "cars"
   ]
  },
  {
   "cell_type": "markdown",
   "id": "383b3e81",
   "metadata": {},
   "source": [
    "but this remove method can only remove the first data it finds of the same name. If there are multiple data of same name then this method will only remove th first one of the same name from the list"
   ]
  },
  {
   "cell_type": "markdown",
   "id": "30b2abca",
   "metadata": {},
   "source": [
    "# LIFO: Last In First Out\n"
   ]
  },
  {
   "cell_type": "code",
   "execution_count": 40,
   "id": "bc658399",
   "metadata": {},
   "outputs": [],
   "source": [
    "cars.append('Tesla')"
   ]
  },
  {
   "cell_type": "code",
   "execution_count": 41,
   "id": "9455f5ff",
   "metadata": {},
   "outputs": [],
   "source": [
    "cars.append('Maruti')"
   ]
  },
  {
   "cell_type": "code",
   "execution_count": 42,
   "id": "b13e332c",
   "metadata": {},
   "outputs": [
    {
     "data": {
      "text/plain": [
       "['Audi', 'BMW', 'Mercedes', 'Tesla', 'Maruti']"
      ]
     },
     "execution_count": 42,
     "metadata": {},
     "output_type": "execute_result"
    }
   ],
   "source": [
    "cars"
   ]
  },
  {
   "cell_type": "code",
   "execution_count": 43,
   "id": "48cb6353",
   "metadata": {},
   "outputs": [
    {
     "data": {
      "text/plain": [
       "'Maruti'"
      ]
     },
     "execution_count": 43,
     "metadata": {},
     "output_type": "execute_result"
    }
   ],
   "source": [
    "cars.pop() #pop takes out the last data"
   ]
  },
  {
   "cell_type": "code",
   "execution_count": 44,
   "id": "1c930637",
   "metadata": {},
   "outputs": [
    {
     "data": {
      "text/plain": [
       "['Audi', 'BMW', 'Mercedes', 'Tesla']"
      ]
     },
     "execution_count": 44,
     "metadata": {},
     "output_type": "execute_result"
    }
   ],
   "source": [
    "cars"
   ]
  },
  {
   "cell_type": "markdown",
   "id": "cfa3e3eb",
   "metadata": {},
   "source": [
    "# POP using index"
   ]
  },
  {
   "cell_type": "code",
   "execution_count": 45,
   "id": "c042ef6f",
   "metadata": {},
   "outputs": [],
   "source": [
    "cars = ['Audi', 'BMW', 'Mercedes', 'Tesla', 'Maruti']"
   ]
  },
  {
   "cell_type": "code",
   "execution_count": 47,
   "id": "cb8b97c7",
   "metadata": {},
   "outputs": [
    {
     "data": {
      "text/plain": [
       "'BMW'"
      ]
     },
     "execution_count": 47,
     "metadata": {},
     "output_type": "execute_result"
    }
   ],
   "source": [
    "cars.pop(1)"
   ]
  },
  {
   "cell_type": "code",
   "execution_count": 48,
   "id": "d60ecd2a",
   "metadata": {},
   "outputs": [
    {
     "data": {
      "text/plain": [
       "['Audi', 'Mercedes', 'Tesla', 'Maruti']"
      ]
     },
     "execution_count": 48,
     "metadata": {},
     "output_type": "execute_result"
    }
   ],
   "source": [
    "cars"
   ]
  },
  {
   "cell_type": "markdown",
   "id": "7636b647",
   "metadata": {},
   "source": [
    "# sort() - Sorting"
   ]
  },
  {
   "cell_type": "code",
   "execution_count": 49,
   "id": "d57068ff",
   "metadata": {},
   "outputs": [],
   "source": [
    "cars.sort()"
   ]
  },
  {
   "cell_type": "code",
   "execution_count": 50,
   "id": "d4e0654c",
   "metadata": {},
   "outputs": [
    {
     "data": {
      "text/plain": [
       "['Audi', 'Maruti', 'Mercedes', 'Tesla']"
      ]
     },
     "execution_count": 50,
     "metadata": {},
     "output_type": "execute_result"
    }
   ],
   "source": [
    "cars"
   ]
  },
  {
   "cell_type": "code",
   "execution_count": 51,
   "id": "0e1f9926",
   "metadata": {},
   "outputs": [],
   "source": [
    "num = [7, 0, -4, -3, 53, 4, 10]"
   ]
  },
  {
   "cell_type": "code",
   "execution_count": 52,
   "id": "9c4bf9fa",
   "metadata": {},
   "outputs": [
    {
     "data": {
      "text/plain": [
       "[7, 0, -4, -3, 53, 4, 10]"
      ]
     },
     "execution_count": 52,
     "metadata": {},
     "output_type": "execute_result"
    }
   ],
   "source": [
    "num"
   ]
  },
  {
   "cell_type": "code",
   "execution_count": 54,
   "id": "f9d7a38f",
   "metadata": {},
   "outputs": [],
   "source": [
    "num.sort() #ascending order"
   ]
  },
  {
   "cell_type": "code",
   "execution_count": 55,
   "id": "d819ce2d",
   "metadata": {},
   "outputs": [
    {
     "data": {
      "text/plain": [
       "[-4, -3, 0, 4, 7, 10, 53]"
      ]
     },
     "execution_count": 55,
     "metadata": {},
     "output_type": "execute_result"
    }
   ],
   "source": [
    "num"
   ]
  },
  {
   "cell_type": "code",
   "execution_count": 57,
   "id": "bc33d29d",
   "metadata": {},
   "outputs": [],
   "source": [
    "num.sort(reverse = True) #descending order"
   ]
  },
  {
   "cell_type": "code",
   "execution_count": 58,
   "id": "42e17e9a",
   "metadata": {},
   "outputs": [
    {
     "data": {
      "text/plain": [
       "[53, 10, 7, 4, 0, -3, -4]"
      ]
     },
     "execution_count": 58,
     "metadata": {},
     "output_type": "execute_result"
    }
   ],
   "source": [
    "num"
   ]
  },
  {
   "cell_type": "code",
   "execution_count": 59,
   "id": "aaccf7d7",
   "metadata": {},
   "outputs": [],
   "source": [
    "antn = [0, -4, -3, 53, 4, 'Maruti', 'Mercedes', 'Tesla']"
   ]
  },
  {
   "cell_type": "code",
   "execution_count": 60,
   "id": "d4fca00e",
   "metadata": {},
   "outputs": [
    {
     "ename": "TypeError",
     "evalue": "'<' not supported between instances of 'str' and 'int'",
     "output_type": "error",
     "traceback": [
      "\u001b[1;31m---------------------------------------------------------------------------\u001b[0m",
      "\u001b[1;31mTypeError\u001b[0m                                 Traceback (most recent call last)",
      "\u001b[1;32m~\\AppData\\Local\\Temp\\ipykernel_2892\\548427590.py\u001b[0m in \u001b[0;36m<module>\u001b[1;34m\u001b[0m\n\u001b[1;32m----> 1\u001b[1;33m \u001b[0mantn\u001b[0m\u001b[1;33m.\u001b[0m\u001b[0msort\u001b[0m\u001b[1;33m(\u001b[0m\u001b[1;33m)\u001b[0m\u001b[1;33m\u001b[0m\u001b[1;33m\u001b[0m\u001b[0m\n\u001b[0m",
      "\u001b[1;31mTypeError\u001b[0m: '<' not supported between instances of 'str' and 'int'"
     ]
    }
   ],
   "source": [
    "antn.sort()"
   ]
  },
  {
   "cell_type": "code",
   "execution_count": null,
   "id": "4dbc24a8",
   "metadata": {},
   "outputs": [],
   "source": []
  }
 ],
 "metadata": {
  "kernelspec": {
   "display_name": "Python 3 (ipykernel)",
   "language": "python",
   "name": "python3"
  },
  "language_info": {
   "codemirror_mode": {
    "name": "ipython",
    "version": 3
   },
   "file_extension": ".py",
   "mimetype": "text/x-python",
   "name": "python",
   "nbconvert_exporter": "python",
   "pygments_lexer": "ipython3",
   "version": "3.9.7"
  }
 },
 "nbformat": 4,
 "nbformat_minor": 5
}
