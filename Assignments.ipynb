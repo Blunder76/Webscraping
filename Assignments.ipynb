{
 "cells": [
  {
   "cell_type": "markdown",
   "id": "d5e2403c",
   "metadata": {},
   "source": [
    "Assignment 1- WAP to check if the given input number is prime or not if prime return true else false"
   ]
  },
  {
   "cell_type": "code",
   "execution_count": 8,
   "id": "f52da95c",
   "metadata": {},
   "outputs": [],
   "source": [
    "def num(a):\n",
    "    if a > 1:\n",
    "        for i in range(2, num//2):\n",
    "            if (num % i) == 0:\n",
    "                print(num, \"is not a prime number\")\n",
    "                break\n",
    "            else:\n",
    "                print(num, \"is a prime number\")"
   ]
  },
  {
   "cell_type": "code",
   "execution_count": 10,
   "id": "393cb04c",
   "metadata": {},
   "outputs": [
    {
     "data": {
      "text/plain": [
       "3"
      ]
     },
     "execution_count": 10,
     "metadata": {},
     "output_type": "execute_result"
    }
   ],
   "source": [
    "3"
   ]
  },
  {
   "cell_type": "code",
   "execution_count": null,
   "id": "354d2004",
   "metadata": {},
   "outputs": [],
   "source": []
  }
 ],
 "metadata": {
  "kernelspec": {
   "display_name": "Python 3 (ipykernel)",
   "language": "python",
   "name": "python3"
  },
  "language_info": {
   "codemirror_mode": {
    "name": "ipython",
    "version": 3
   },
   "file_extension": ".py",
   "mimetype": "text/x-python",
   "name": "python",
   "nbconvert_exporter": "python",
   "pygments_lexer": "ipython3",
   "version": "3.9.7"
  }
 },
 "nbformat": 4,
 "nbformat_minor": 5
}
