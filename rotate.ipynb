{
 "cells": [
  {
   "cell_type": "code",
   "execution_count": 1,
   "id": "4aa21de0",
   "metadata": {},
   "outputs": [
    {
     "name": "stdout",
     "output_type": "stream",
     "text": [
      "Left Rotation :  eksforGeeksGe\n",
      "Right Rotation :  ksGeeksforGee\n"
     ]
    }
   ],
   "source": [
    "\n",
    "# Function to rotate string left and right by d length\n",
    " \n",
    "def rotate(input,d):\n",
    " \n",
    "    # slice string in two parts for left and right\n",
    "    Lfirst = input[0 : d]\n",
    "    Lsecond = input[d :]\n",
    "    Rfirst = input[0 : len(input)-d]\n",
    "    Rsecond = input[len(input)-d : ]\n",
    " \n",
    "    # now concatenate two parts together\n",
    "    print (\"Left Rotation : \", (Lsecond + Lfirst) )\n",
    "    print (\"Right Rotation : \", (Rsecond + Rfirst))\n",
    " \n",
    "# Driver program\n",
    "if __name__ == \"__main__\":\n",
    "    input = 'GeeksforGeeks'\n",
    "    d=2\n",
    "    rotate(input,d)"
   ]
  },
  {
   "cell_type": "code",
   "execution_count": 3,
   "id": "85a580ed",
   "metadata": {},
   "outputs": [
    {
     "name": "stdout",
     "output_type": "stream",
     "text": [
      "Left Rotation :  PALINDIACHINANE\n",
      "Right Rotation :  NANEPALINDIACHI\n"
     ]
    }
   ],
   "source": [
    "\n",
    "# Function to rotate string left and right by d length\n",
    " \n",
    "def rotate(input,d):\n",
    " \n",
    "    # slice string in two parts for left and right\n",
    "    Lfirst = input[0 : d]\n",
    "    Lsecond = input[d :]\n",
    "    Rfirst = input[0 : len(input)-d]\n",
    "    Rsecond = input[len(input)-d : ]\n",
    " \n",
    "    # now concatenate two parts together\n",
    "    print (\"Left Rotation : \", (Lsecond + Lfirst) )\n",
    "    print (\"Right Rotation : \", (Rsecond + Rfirst))\n",
    " \n",
    "# Driver program\n",
    "if __name__ == \"__main__\":\n",
    "    input = 'NEPALINDIACHINA'\n",
    "    d=2\n",
    "    rotate(input,d)"
   ]
  },
  {
   "cell_type": "code",
   "execution_count": null,
   "id": "bba512c3",
   "metadata": {},
   "outputs": [],
   "source": []
  }
 ],
 "metadata": {
  "kernelspec": {
   "display_name": "Python 3 (ipykernel)",
   "language": "python",
   "name": "python3"
  },
  "language_info": {
   "codemirror_mode": {
    "name": "ipython",
    "version": 3
   },
   "file_extension": ".py",
   "mimetype": "text/x-python",
   "name": "python",
   "nbconvert_exporter": "python",
   "pygments_lexer": "ipython3",
   "version": "3.9.7"
  }
 },
 "nbformat": 4,
 "nbformat_minor": 5
}
