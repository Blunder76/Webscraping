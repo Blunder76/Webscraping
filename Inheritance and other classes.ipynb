{
 "cells": [
  {
   "cell_type": "markdown",
   "id": "6402c576",
   "metadata": {},
   "source": [
    "# Single Inheritance\n",
    "Inheritance from single parent"
   ]
  },
  {
   "cell_type": "code",
   "execution_count": 1,
   "id": "b4986037",
   "metadata": {},
   "outputs": [],
   "source": [
    "class computer:\n",
    "    def __init__(self, ram, storage):\n",
    "        self.ram = ram\n",
    "        self.storage = storage"
   ]
  },
  {
   "cell_type": "code",
   "execution_count": 2,
   "id": "fd772196",
   "metadata": {},
   "outputs": [],
   "source": [
    "class mobile(computer):\n",
    "    def __init__(self, ram, storage, camera_pixel):\n",
    "        self.camera_pixel = camera_pixel\n",
    "        super().__init__(ram,storage)"
   ]
  },
  {
   "cell_type": "code",
   "execution_count": 3,
   "id": "9e334658",
   "metadata": {},
   "outputs": [],
   "source": [
    "m = mobile(8, 128, 188)"
   ]
  },
  {
   "cell_type": "code",
   "execution_count": 4,
   "id": "01fd8d9a",
   "metadata": {},
   "outputs": [
    {
     "data": {
      "text/plain": [
       "188"
      ]
     },
     "execution_count": 4,
     "metadata": {},
     "output_type": "execute_result"
    }
   ],
   "source": [
    "m.camera_pixel"
   ]
  },
  {
   "cell_type": "code",
   "execution_count": 5,
   "id": "82858fc5",
   "metadata": {},
   "outputs": [
    {
     "data": {
      "text/plain": [
       "8"
      ]
     },
     "execution_count": 5,
     "metadata": {},
     "output_type": "execute_result"
    }
   ],
   "source": [
    "m.ram"
   ]
  },
  {
   "cell_type": "code",
   "execution_count": 6,
   "id": "dde3a7b6",
   "metadata": {},
   "outputs": [
    {
     "data": {
      "text/plain": [
       "128"
      ]
     },
     "execution_count": 6,
     "metadata": {},
     "output_type": "execute_result"
    }
   ],
   "source": [
    "m.storage"
   ]
  },
  {
   "cell_type": "markdown",
   "id": "d8d46b27",
   "metadata": {},
   "source": [
    "# Multiple Inheritance\n",
    "Inheritance from multiple parents"
   ]
  },
  {
   "cell_type": "code",
   "execution_count": 25,
   "id": "6cc6042a",
   "metadata": {},
   "outputs": [],
   "source": [
    "class father:\n",
    "    def __init__(self, fathername):\n",
    "        self.relation = \"father\"  #fixed values can also be accessed by the child\n",
    "        self.fathername = fathername\n",
    "class mother:\n",
    "    def __init__(self, mothername):\n",
    "        self.mothername = mothername"
   ]
  },
  {
   "cell_type": "code",
   "execution_count": 19,
   "id": "41636e29",
   "metadata": {},
   "outputs": [],
   "source": [
    "class child(father, mother):\n",
    "    def __init__(self, childname, fathername, mothername):\n",
    "        self.childname = childname\n",
    "        father.__init__(self, fathername)\n",
    "        mother.__init__(self, mothername)\n",
    "    "
   ]
  },
  {
   "cell_type": "code",
   "execution_count": 20,
   "id": "0cea8486",
   "metadata": {},
   "outputs": [],
   "source": [
    "c = child(\"Lov-Kush\",\"Ram\",\"Sita\")"
   ]
  },
  {
   "cell_type": "code",
   "execution_count": 21,
   "id": "8da48f61",
   "metadata": {},
   "outputs": [
    {
     "data": {
      "text/plain": [
       "'Sita'"
      ]
     },
     "execution_count": 21,
     "metadata": {},
     "output_type": "execute_result"
    }
   ],
   "source": [
    "c.mothername"
   ]
  },
  {
   "cell_type": "code",
   "execution_count": 22,
   "id": "5e345e68",
   "metadata": {},
   "outputs": [
    {
     "data": {
      "text/plain": [
       "'Ram'"
      ]
     },
     "execution_count": 22,
     "metadata": {},
     "output_type": "execute_result"
    }
   ],
   "source": [
    "c.fathername"
   ]
  },
  {
   "cell_type": "code",
   "execution_count": 23,
   "id": "c7519b74",
   "metadata": {},
   "outputs": [
    {
     "data": {
      "text/plain": [
       "'Lov-Kush'"
      ]
     },
     "execution_count": 23,
     "metadata": {},
     "output_type": "execute_result"
    }
   ],
   "source": [
    "c.childname"
   ]
  },
  {
   "cell_type": "code",
   "execution_count": 26,
   "id": "c32a5814",
   "metadata": {},
   "outputs": [
    {
     "ename": "AttributeError",
     "evalue": "'child' object has no attribute 'relation'",
     "output_type": "error",
     "traceback": [
      "\u001b[1;31m---------------------------------------------------------------------------\u001b[0m",
      "\u001b[1;31mAttributeError\u001b[0m                            Traceback (most recent call last)",
      "\u001b[1;32m~\\AppData\\Local\\Temp\\ipykernel_14160\\774404269.py\u001b[0m in \u001b[0;36m<module>\u001b[1;34m\u001b[0m\n\u001b[1;32m----> 1\u001b[1;33m \u001b[0mc\u001b[0m\u001b[1;33m.\u001b[0m\u001b[0mrelation\u001b[0m\u001b[1;33m\u001b[0m\u001b[1;33m\u001b[0m\u001b[0m\n\u001b[0m",
      "\u001b[1;31mAttributeError\u001b[0m: 'child' object has no attribute 'relation'"
     ]
    }
   ],
   "source": [
    "c.relation #TODO"
   ]
  },
  {
   "cell_type": "markdown",
   "id": "0fe66f95",
   "metadata": {},
   "source": [
    "# Multilevel inheritance\n",
    "A to B to C"
   ]
  },
  {
   "cell_type": "markdown",
   "id": "3c01544a",
   "metadata": {},
   "source": [
    "NOTE: Restricts private attributes from being accessed, protected can be accessed by selectives, public can be accessed by anyone"
   ]
  },
  {
   "cell_type": "markdown",
   "id": "fcdfbb32",
   "metadata": {},
   "source": [
    "# Operator overloading in user defined class"
   ]
  },
  {
   "cell_type": "code",
   "execution_count": 31,
   "id": "ddb41089",
   "metadata": {},
   "outputs": [],
   "source": [
    "class person:\n",
    "    def __init__(self, name, balance):\n",
    "        self.name = name\n",
    "        self.balance = balance\n",
    "        \n",
    "    def __add__(self, nextob):\n",
    "        return self.balance + nextob.balance  #overloading, here p1 goes to self and p2 goes to nextob and their balance adds"
   ]
  },
  {
   "cell_type": "code",
   "execution_count": 32,
   "id": "5859f9f8",
   "metadata": {},
   "outputs": [],
   "source": [
    "p1 = person(\"Kusum\",95239652396239)\n",
    "p2 = person(\"Helen\",98674206)"
   ]
  },
  {
   "cell_type": "code",
   "execution_count": 33,
   "id": "5d6cd74f",
   "metadata": {},
   "outputs": [
    {
     "data": {
      "text/plain": [
       "95239751070445"
      ]
     },
     "execution_count": 33,
     "metadata": {},
     "output_type": "execute_result"
    }
   ],
   "source": [
    "p1 + p2"
   ]
  },
  {
   "cell_type": "markdown",
   "id": "5f7b92e6",
   "metadata": {},
   "source": [
    "# Polymorphism\n",
    "\n",
    "has many forms. ex. + operator can add int, string and others hence it is polymorphic"
   ]
  },
  {
   "cell_type": "code",
   "execution_count": 34,
   "id": "604d7013",
   "metadata": {},
   "outputs": [],
   "source": [
    "class computer:\n",
    "    def __init__(self, ram, storage):\n",
    "        self.ram = ram\n",
    "        self.storage = storage\n",
    "    def display(self):\n",
    "        print(\"This is from Computer\")\n",
    "        \n",
    "class mobile(computer):\n",
    "    def __init__(self, ram, storage, camera_pixel):\n",
    "        self.camera_pixel = camera_pixel\n",
    "        super().__init__(ram,storage)"
   ]
  },
  {
   "cell_type": "code",
   "execution_count": 36,
   "id": "0af27852",
   "metadata": {},
   "outputs": [],
   "source": [
    "m = mobile(8, 64, 128)"
   ]
  },
  {
   "cell_type": "code",
   "execution_count": 37,
   "id": "5e8f43e5",
   "metadata": {},
   "outputs": [
    {
     "data": {
      "text/plain": [
       "8"
      ]
     },
     "execution_count": 37,
     "metadata": {},
     "output_type": "execute_result"
    }
   ],
   "source": [
    "m.ram"
   ]
  },
  {
   "cell_type": "code",
   "execution_count": 38,
   "id": "1ba8f149",
   "metadata": {},
   "outputs": [
    {
     "name": "stdout",
     "output_type": "stream",
     "text": [
      "This is from Computer\n"
     ]
    }
   ],
   "source": [
    "m.display()"
   ]
  },
  {
   "cell_type": "markdown",
   "id": "7ca32a4e",
   "metadata": {},
   "source": [
    "When child does not have its own feature then it uses the parent attribute. \n",
    "If it has its own then it overrides the parent attribute and displays its own attribute."
   ]
  },
  {
   "cell_type": "markdown",
   "id": "93050940",
   "metadata": {},
   "source": [
    "# Encapsulation\n",
    "\n",
    "is wrapping the attributes inside function or similar"
   ]
  },
  {
   "cell_type": "markdown",
   "id": "0ae3dae0",
   "metadata": {},
   "source": [
    "# Abstraction\n",
    "\n",
    "hides the stuffs, for ex. function name is x and attibutes are added inside the x function, \n",
    "we use x function but do not show that inside x we are adding attributes\n"
   ]
  },
  {
   "cell_type": "code",
   "execution_count": null,
   "id": "8903842f",
   "metadata": {},
   "outputs": [],
   "source": []
  }
 ],
 "metadata": {
  "kernelspec": {
   "display_name": "Python 3 (ipykernel)",
   "language": "python",
   "name": "python3"
  },
  "language_info": {
   "codemirror_mode": {
    "name": "ipython",
    "version": 3
   },
   "file_extension": ".py",
   "mimetype": "text/x-python",
   "name": "python",
   "nbconvert_exporter": "python",
   "pygments_lexer": "ipython3",
   "version": "3.9.7"
  }
 },
 "nbformat": 4,
 "nbformat_minor": 5
}
