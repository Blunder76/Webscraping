{
 "cells": [
  {
   "cell_type": "code",
   "execution_count": 3,
   "id": "9b79972d",
   "metadata": {},
   "outputs": [],
   "source": [
    "txt = \"I like oranges apple banana and kiwi\""
   ]
  },
  {
   "cell_type": "code",
   "execution_count": 4,
   "id": "e49475be",
   "metadata": {},
   "outputs": [
    {
     "data": {
      "text/plain": [
       "'I like oranges apple banana and kiwi'"
      ]
     },
     "execution_count": 4,
     "metadata": {},
     "output_type": "execute_result"
    }
   ],
   "source": [
    "txt"
   ]
  },
  {
   "cell_type": "markdown",
   "id": "95df655b",
   "metadata": {},
   "source": [
    "Membership operator"
   ]
  },
  {
   "cell_type": "markdown",
   "id": "19596a1b",
   "metadata": {},
   "source": [
    "collection of items are in a list.\n",
    "In and not in are membership operator"
   ]
  },
  {
   "cell_type": "code",
   "execution_count": 5,
   "id": "f43c1071",
   "metadata": {},
   "outputs": [],
   "source": [
    "class2 = ['pratik','avishek','punam','kusum','nissan']"
   ]
  },
  {
   "cell_type": "code",
   "execution_count": 6,
   "id": "9664c300",
   "metadata": {},
   "outputs": [
    {
     "data": {
      "text/plain": [
       "['pratik', 'avishek', 'punam', 'kusum', 'nissan']"
      ]
     },
     "execution_count": 6,
     "metadata": {},
     "output_type": "execute_result"
    }
   ],
   "source": [
    "class2"
   ]
  },
  {
   "cell_type": "code",
   "execution_count": 7,
   "id": "a5c1d848",
   "metadata": {},
   "outputs": [
    {
     "data": {
      "text/plain": [
       "'kusum'"
      ]
     },
     "execution_count": 7,
     "metadata": {},
     "output_type": "execute_result"
    }
   ],
   "source": [
    "class2[3]"
   ]
  },
  {
   "cell_type": "code",
   "execution_count": 8,
   "id": "524fe837",
   "metadata": {},
   "outputs": [],
   "source": [
    "class2[3] = \"Kusum\""
   ]
  },
  {
   "cell_type": "code",
   "execution_count": 10,
   "id": "7428bc99",
   "metadata": {},
   "outputs": [
    {
     "data": {
      "text/plain": [
       "['pratik', 'avishek', 'punam', 'Kusum', 'nissan']"
      ]
     },
     "execution_count": 10,
     "metadata": {},
     "output_type": "execute_result"
    }
   ],
   "source": [
    "class2"
   ]
  },
  {
   "cell_type": "code",
   "execution_count": 11,
   "id": "3d6835dd",
   "metadata": {},
   "outputs": [],
   "source": [
    "class2[:2] = [\"Pratik\",\"Avishek\"]"
   ]
  },
  {
   "cell_type": "code",
   "execution_count": 12,
   "id": "ac64828b",
   "metadata": {},
   "outputs": [
    {
     "data": {
      "text/plain": [
       "['Pratik', 'Avishek', 'punam', 'Kusum', 'nissan']"
      ]
     },
     "execution_count": 12,
     "metadata": {},
     "output_type": "execute_result"
    }
   ],
   "source": [
    "class2"
   ]
  },
  {
   "cell_type": "code",
   "execution_count": null,
   "id": "78c01425",
   "metadata": {},
   "outputs": [],
   "source": []
  }
 ],
 "metadata": {
  "kernelspec": {
   "display_name": "Python 3 (ipykernel)",
   "language": "python",
   "name": "python3"
  },
  "language_info": {
   "codemirror_mode": {
    "name": "ipython",
    "version": 3
   },
   "file_extension": ".py",
   "mimetype": "text/x-python",
   "name": "python",
   "nbconvert_exporter": "python",
   "pygments_lexer": "ipython3",
   "version": "3.9.7"
  }
 },
 "nbformat": 4,
 "nbformat_minor": 5
}
